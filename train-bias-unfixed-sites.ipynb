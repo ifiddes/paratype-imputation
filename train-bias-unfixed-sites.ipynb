{
 "cells": [
  {
   "cell_type": "code",
   "execution_count": 1,
   "metadata": {
    "collapsed": false
   },
   "outputs": [],
   "source": [
    "import pandas as pd\n",
    "from glob import glob\n",
    "import numpy as np\n",
    "from tools.procOps import *\n",
    "from tools.fileOps import *\n",
    "from collections import *\n",
    "import itertools\n",
    "from scipy.special import *\n",
    "from tools.bio import *"
   ]
  },
  {
   "cell_type": "code",
   "execution_count": 200,
   "metadata": {
    "collapsed": false
   },
   "outputs": [],
   "source": [
    "# load feature set\n",
    "ab_site_df = pd.read_csv('merged_features.tsv', sep='\\t')"
   ]
  },
  {
   "cell_type": "code",
   "execution_count": 201,
   "metadata": {
    "collapsed": false
   },
   "outputs": [],
   "source": [
    "# filter for non C/D/N sites\n",
    "ab_site_df = ab_site_df[(ab_site_df.C == 0) | (ab_site_df.D == 0) | (ab_site_df.N == 0)]\n",
    "ab_site_df = ab_site_df.drop(['C', 'D', 'N'], axis=1)\n",
    "bad_sites = [x for x, y in ab_site_df.set_index('loc').iterrows() if y.sum() == 0]\n",
    "ab_site_df = ab_site_df[~ab_site_df['loc'].isin(bad_sites)]"
   ]
  },
  {
   "cell_type": "code",
   "execution_count": 220,
   "metadata": {
    "collapsed": false
   },
   "outputs": [],
   "source": [
    "# load our training genomes\n",
    "\n",
    "files = {'H9': '/hive/users/ifiddes/notch2nl_berkeley_data/imputation_pipeline/H9.pileup.txt',\n",
    "      'NA24385': '/hive/users/ifiddes/notch2nl_berkeley_data/imputation_pipeline/NA24385.pileup.txt',\n",
    "      'NA12878': '/hive/users/ifiddes/notch2nl_berkeley_data/imputation_pipeline/NA12878.pileup.txt',\n",
    "      'NA19240': '/hive/users/ifiddes/notch2nl_berkeley_data/imputation_pipeline/NA19240.pileup.txt',\n",
    "        'CHM1': '/hive/users/ifiddes/notch2nl_berkeley_data/imputation_pipeline/CHM1.pileup.txt'}\n",
    "\n",
    "dfs = {g: pd.read_csv(f, sep='\\t', index_col=0) for g, f in files.iteritems()}\n",
    "\n",
    "# load sites\n",
    "filtered_dfs = {}\n",
    "for g, df in dfs.iteritems():\n",
    "    filtered_dfs[g] = df[df['loc'].isin(ab_site_df['loc'])]"
   ]
  },
  {
   "cell_type": "code",
   "execution_count": 221,
   "metadata": {
    "collapsed": false
   },
   "outputs": [],
   "source": [
    "# filter the suns for sites in all\n",
    "seen_sites = set.intersection(*[set(x['loc']) for x in filtered_dfs.itervalues()])\n",
    "\n",
    "filtered_ab_site_df = ab_site_df[ab_site_df['loc'].isin(seen_sites)]"
   ]
  },
  {
   "cell_type": "code",
   "execution_count": 226,
   "metadata": {
    "collapsed": false
   },
   "outputs": [],
   "source": [
    "# load actual data from pileups into actual_alt, synthetic_alt, depth, s\n",
    "actual_alt = []\n",
    "depth = []\n",
    "s_matrix = []  # genotype matrix\n",
    "f = filtered_ab_site_df.set_index('loc').as_matrix()\n",
    "\n",
    "ploidy_matrix = {'NA19240': [0, 0, 0, 0, 0, 0, 0, 1, 1, 1, 1, 0, 0, 0, 0, 0, 0],\n",
    "                'NA12878': [2, 1, 1, 0, 0, 0, 0, 0, 0, 0, 0, 0, 0, 0, 0, 0, 0],\n",
    "                'NA24385': [0, 0, 0, 1, 1, 1, 1, 0, 0, 0, 0, 0, 0, 0, 0, 0, 0],\n",
    "                'H9': [0, 0, 0, 0, 0, 0, 0, 0, 0, 0, 0, 1, 1, 1, 1, 0, 0],\n",
    "                'CHM1': [0, 0, 0, 0, 0, 0, 0, 0, 0, 0, 0, 1, 1, 1, 1, 1, 1]}\n",
    "\n",
    "H = np.array([[0, 0, 0, 0, 0, 0, 0, 1, 1, 1, 1, 0, 0, 0, 0, 0, 0],\n",
    "             [2, 1, 1, 0, 0, 0, 0, 0, 0, 0, 0, 0, 0, 0, 0, 0, 0],\n",
    "             [0, 0, 0, 1, 1, 1, 1, 0, 0, 0, 0, 0, 0, 0, 0, 0, 0],\n",
    "             [0, 0, 0, 0, 0, 0, 0, 0, 0, 0, 0, 1, 1, 1, 1, 0, 0],\n",
    "             [0, 0, 0, 0, 0, 0, 0, 0, 0, 0, 0, 1, 1, 1, 1, 1, 1]])\n",
    "\n",
    "#seen_genomes = set()\n",
    "for n, df_m in filtered_dfs.items():\n",
    "    df_m = df_m[df_m['loc'].isin(seen_sites)]\n",
    "    for _, s in df_m.iterrows():\n",
    "        actual_alt.append(s.alt_count)\n",
    "        depth.append(s.coverage)\n",
    "    # always 4-2-2-2\n",
    "    s_matrix.append(ploidy_matrix[n])\n",
    "    #seen_genomes.add(n)\n"
   ]
  },
  {
   "cell_type": "code",
   "execution_count": 227,
   "metadata": {
    "collapsed": false
   },
   "outputs": [],
   "source": [
    "depth = np.array(depth).reshape(5, f.shape[0]).T\n",
    "actual_alt = np.array(actual_alt).reshape(5, f.shape[0]).T\n",
    "s = np.array(s_matrix).T\n",
    "tot = depth.sum(axis=1)"
   ]
  },
  {
   "cell_type": "code",
   "execution_count": 228,
   "metadata": {
    "collapsed": false
   },
   "outputs": [],
   "source": [
    "# calculate synthetic depth for all genomes\n",
    "tsa = (np.multiply(depth, np.dot(f, s)) / H.sum(axis=1)).sum(axis=1)"
   ]
  },
  {
   "cell_type": "code",
   "execution_count": 229,
   "metadata": {
    "collapsed": false
   },
   "outputs": [],
   "source": [
    "taa = actual_alt.sum(axis=1)"
   ]
  },
  {
   "cell_type": "code",
   "execution_count": 230,
   "metadata": {
    "collapsed": true
   },
   "outputs": [],
   "source": [
    "depth_total = depth.sum(axis=1)"
   ]
  },
  {
   "cell_type": "code",
   "execution_count": 231,
   "metadata": {
    "collapsed": false
   },
   "outputs": [],
   "source": [
    "synthetic_alt = []\n",
    "for h in H:\n",
    "    synthetic_alt.append(np.multiply(depth_total, np.dot(f, h)) / sum(h))\n",
    "synthetic_alt = np.array(synthetic_alt)"
   ]
  },
  {
   "cell_type": "code",
   "execution_count": 232,
   "metadata": {
    "collapsed": true
   },
   "outputs": [],
   "source": [
    "bias = 1.0 * taa / tsa"
   ]
  },
  {
   "cell_type": "code",
   "execution_count": 585,
   "metadata": {
    "collapsed": false
   },
   "outputs": [],
   "source": [
    "# mask bias to 1 for all A/B features\n",
    "# how does the bias look per unambiguous site? ambiguous?\n",
    "masked_bias = []\n",
    "a_sites = set()\n",
    "for i, b in enumerate(bias):\n",
    "    site = filtered_ab_site_df.iloc[i]\n",
    "    total = site.NAB + site.NC + site.ND + site.NN\n",
    "    if total == 1 and site.NAB == 1:\n",
    "        a_sites.add(i)\n",
    "        masked_bias.append(1)\n",
    "    else:\n",
    "        masked_bias.append(b)\n",
    "masked_bias = np.array(masked_bias)"
   ]
  },
  {
   "cell_type": "code",
   "execution_count": 641,
   "metadata": {
    "collapsed": false
   },
   "outputs": [],
   "source": [
    "projected_alt = np.multiply(synthetic_alt, bias)\n",
    "#projected_alt = np.multiply(synthetic_alt, masked_bias)"
   ]
  },
  {
   "cell_type": "code",
   "execution_count": 642,
   "metadata": {
    "collapsed": true
   },
   "outputs": [],
   "source": [
    "projected_ref = depth_total - projected_alt"
   ]
  },
  {
   "cell_type": "code",
   "execution_count": 643,
   "metadata": {
    "collapsed": false
   },
   "outputs": [],
   "source": [
    "u = projected_alt / (projected_alt + projected_ref)\n",
    "a_matrix = u * (tot - 1)\n",
    "b_matrix = (1 - u) * (tot  - 1)"
   ]
  },
  {
   "cell_type": "code",
   "execution_count": 644,
   "metadata": {
    "collapsed": true
   },
   "outputs": [],
   "source": [
    "# mix a and b slightly to give noise\n",
    "delta = 0.01\n",
    "aprime = (1 - delta) * a_matrix + delta * b_matrix\n",
    "bprime = (1 - delta) * b_matrix + delta * a_matrix"
   ]
  },
  {
   "cell_type": "code",
   "execution_count": 645,
   "metadata": {
    "collapsed": false
   },
   "outputs": [],
   "source": [
    "# now lets try predicting copy number across the whole cohort\n",
    "\n",
    "def r_fn(aprime, bprime, m, n):\n",
    "    r_values = []\n",
    "    for a, b in zip(aprime, bprime):\n",
    "        r_values.append(np.sum(betaln(m + a, n + b) - betaln(a, b)))\n",
    "    return r_values"
   ]
  },
  {
   "cell_type": "code",
   "execution_count": 646,
   "metadata": {
    "collapsed": true
   },
   "outputs": [],
   "source": [
    "# filter by bias\n",
    "#bad_sites = set()\n",
    "#for i, b in enumerate(bias):\n",
    "#    if not (0.9 < b < 1.1):\n",
    "#        bad_sites.add(filtered_ab_site_df.iloc[i]['loc'])"
   ]
  },
  {
   "cell_type": "code",
   "execution_count": 647,
   "metadata": {
    "collapsed": false
   },
   "outputs": [],
   "source": [
    "results = []\n",
    "for g, df_m in dfs.iteritems():\n",
    "    df_m = df_m[(df_m['loc'].isin(filtered_ab_site_df['loc'])) & (~df_m['loc'].isin(bad_sites))]\n",
    "    m = df_m.alt_count\n",
    "    n = df_m.ref_count\n",
    "    r_values = r_fn(aprime, bprime, m, n)\n",
    "    # figure out which one was the best scoring\n",
    "    r_map = {i: x for i, x in enumerate(r_values)}\n",
    "    best_index, score = sorted(r_map.iteritems(), key=lambda x: x[1])[-1]\n",
    "    best_haps = H[best_index]\n",
    "    results.append([g] + list(best_haps))"
   ]
  },
  {
   "cell_type": "code",
   "execution_count": 648,
   "metadata": {
    "collapsed": false
   },
   "outputs": [
    {
     "data": {
      "text/html": [
       "<div>\n",
       "<table border=\"1\" class=\"dataframe\">\n",
       "  <thead>\n",
       "    <tr style=\"text-align: right;\">\n",
       "      <th></th>\n",
       "      <th>genome</th>\n",
       "      <th>NAB</th>\n",
       "      <th>NC</th>\n",
       "      <th>ND</th>\n",
       "      <th>NN</th>\n",
       "    </tr>\n",
       "  </thead>\n",
       "  <tbody>\n",
       "    <tr>\n",
       "      <th>0</th>\n",
       "      <td>SS6004480</td>\n",
       "      <td>4.0</td>\n",
       "      <td>2.0</td>\n",
       "      <td>1.0</td>\n",
       "      <td>3.0</td>\n",
       "    </tr>\n",
       "    <tr>\n",
       "      <th>1</th>\n",
       "      <td>LP6005441-DNA_D11</td>\n",
       "      <td>4.0</td>\n",
       "      <td>2.0</td>\n",
       "      <td>1.0</td>\n",
       "      <td>2.0</td>\n",
       "    </tr>\n",
       "    <tr>\n",
       "      <th>2</th>\n",
       "      <td>LP6005519-DNA_G02</td>\n",
       "      <td>4.0</td>\n",
       "      <td>2.0</td>\n",
       "      <td>1.0</td>\n",
       "      <td>2.0</td>\n",
       "    </tr>\n",
       "    <tr>\n",
       "      <th>3</th>\n",
       "      <td>LP6005519-DNA_G04</td>\n",
       "      <td>4.0</td>\n",
       "      <td>2.0</td>\n",
       "      <td>1.0</td>\n",
       "      <td>2.0</td>\n",
       "    </tr>\n",
       "    <tr>\n",
       "      <th>4</th>\n",
       "      <td>LP6005441-DNA_B03</td>\n",
       "      <td>4.0</td>\n",
       "      <td>2.0</td>\n",
       "      <td>1.0</td>\n",
       "      <td>3.0</td>\n",
       "    </tr>\n",
       "  </tbody>\n",
       "</table>\n",
       "</div>"
      ],
      "text/plain": [
       "              genome  NAB   NC   ND   NN\n",
       "0          SS6004480  4.0  2.0  1.0  3.0\n",
       "1  LP6005441-DNA_D11  4.0  2.0  1.0  2.0\n",
       "2  LP6005519-DNA_G02  4.0  2.0  1.0  2.0\n",
       "3  LP6005519-DNA_G04  4.0  2.0  1.0  2.0\n",
       "4  LP6005441-DNA_B03  4.0  2.0  1.0  3.0"
      ]
     },
     "execution_count": 648,
     "metadata": {},
     "output_type": "execute_result"
    }
   ],
   "source": [
    "results = pd.DataFrame(results, columns=['genome', 'NAB', 'NC', 'ND', 'NN'])\n",
    "results = results[~results.genome.isin(bad_genomes)]\n",
    "results.head()"
   ]
  },
  {
   "cell_type": "code",
   "execution_count": 649,
   "metadata": {
    "collapsed": false
   },
   "outputs": [
    {
     "data": {
      "text/plain": [
       "Counter({4.0: 245, 5.0: 19})"
      ]
     },
     "execution_count": 649,
     "metadata": {},
     "output_type": "execute_result"
    }
   ],
   "source": [
    "Counter(results.NAB)"
   ]
  },
  {
   "cell_type": "code",
   "execution_count": 650,
   "metadata": {
    "collapsed": false
   },
   "outputs": [
    {
     "data": {
      "text/plain": [
       "Counter({0.0: 1, 1.0: 17, 2.0: 244, 3.0: 2})"
      ]
     },
     "execution_count": 650,
     "metadata": {},
     "output_type": "execute_result"
    }
   ],
   "source": [
    "Counter(results.NC)"
   ]
  },
  {
   "cell_type": "code",
   "execution_count": 651,
   "metadata": {
    "collapsed": false
   },
   "outputs": [
    {
     "data": {
      "text/plain": [
       "Counter({0.0: 36, 1.0: 107, 2.0: 120, 3.0: 1})"
      ]
     },
     "execution_count": 651,
     "metadata": {},
     "output_type": "execute_result"
    }
   ],
   "source": [
    "Counter(results.ND)"
   ]
  },
  {
   "cell_type": "code",
   "execution_count": 652,
   "metadata": {
    "collapsed": false
   },
   "outputs": [
    {
     "data": {
      "text/plain": [
       "Counter({2.0: 208, 3.0: 53, 4.0: 3})"
      ]
     },
     "execution_count": 652,
     "metadata": {},
     "output_type": "execute_result"
    }
   ],
   "source": [
    "Counter(results.NN)"
   ]
  },
  {
   "cell_type": "code",
   "execution_count": 653,
   "metadata": {
    "collapsed": false
   },
   "outputs": [
    {
     "data": {
      "text/plain": [
       "Counter({7.0: 2, 8.0: 12, 9.0: 95, 10.0: 148, 11.0: 6, 12.0: 1})"
      ]
     },
     "execution_count": 653,
     "metadata": {},
     "output_type": "execute_result"
    }
   ],
   "source": [
    "Counter(results.set_index('genome').sum(axis=1))"
   ]
  },
  {
   "cell_type": "code",
   "execution_count": 367,
   "metadata": {
    "collapsed": false
   },
   "outputs": [
    {
     "name": "stdout",
     "output_type": "stream",
     "text": [
      "log odds: -83474.0862732\n",
      "\n",
      "results: \n",
      "NAB: 4.0\n",
      "NC: 3.0\n",
      "ND: 2.0\n",
      "NN: 2.0\n",
      "NAB NC ND NN\n",
      "top 10 hits:\n",
      "1: [array([ 4.,  3.,  2.,  2.]), 545, -83474.08627319903]\n",
      "2: [array([ 5.,  3.,  2.,  2.]), 656, -83707.78800432892]\n",
      "3: [array([ 4.,  4.,  2.,  2.]), 564, -83938.25200824531]\n",
      "4: [array([ 3.,  3.,  2.,  2.]), 416, -83950.13466311186]\n",
      "5: [array([ 4.,  2.,  2.,  2.]), 521, -84051.0668517208]\n",
      "6: [array([ 4.,  3.,  3.,  2.]), 549, -84073.36539367499]\n",
      "7: [array([ 3.,  2.,  1.,  2.]), 384, -84081.84400771832]\n",
      "8: [array([ 3.,  2.,  2.,  1.]), 388, -84119.16395575868]\n",
      "9: [array([ 4.,  3.,  2.,  3.]), 546, -84128.56204784538]\n",
      "10: [array([ 3.,  3.,  1.,  2.]), 410, -84404.7162094571]\n"
     ]
    }
   ],
   "source": [
    "# figure out which one was the best scoring\n",
    "m = df_m.alt_count\n",
    "n = df_m.ref_count\n",
    "r_values = r_fn(aprime, bprime, m, n)\n",
    "# figure out which one was the best scoring\n",
    "r_map = {i: x for i, x in enumerate(r_values)}\n",
    "best_index, score = sorted(r_map.iteritems(), key=lambda x: x[1])[-1]\n",
    "best_haps = H[best_index]\n",
    "ordered = sorted(r_map.iteritems(), key=lambda x: x[1])[-10:][::-1]\n",
    "print 'log odds: {}'.format(score)\n",
    "print ''\n",
    "print 'results: '\n",
    "for x, y in zip(ab_site_df.columns[1:], best_haps):\n",
    "    if y > 0:\n",
    "        print '{}: {}'.format(x, y)\n",
    "\n",
    "print ' '.join(ab_site_df.columns[1:])\n",
    "print 'top 10 hits:'\n",
    "for i, x in enumerate([[H[pos], pos, val] for pos, val in ordered], 1):\n",
    "    print '{}: {}'.format(i, x)\n"
   ]
  },
  {
   "cell_type": "code",
   "execution_count": 422,
   "metadata": {
    "collapsed": false
   },
   "outputs": [],
   "source": [
    "def calculate_deviance(s):\n",
    "    if s.alt_count == 0 or s.coverage <= 20:\n",
    "        return None\n",
    "    deviance = (s.adjusted_alt - s.alt_count) / (np.sqrt(1.0 * s.coverage * s.ratio * (1 - s.ratio)))\n",
    "    #deviance = (s.expected_alt - s.alt_count) / (np.sqrt(1.0 * s.coverage * s.ratio * (1 - s.ratio)))\n",
    "    return deviance\n",
    "\n",
    "\n",
    "def calculate_expected(s, tot):\n",
    "    \"\"\"Expected value\"\"\"\n",
    "    expected_ratio = (1.0 * s.NAB + s.NC + s.ND + s.NN) / tot\n",
    "    return expected_ratio * s.coverage\n",
    "\n",
    "\n",
    "df = dfs['LP6005592-DNA_H03']\n",
    "df_m = df.merge(ab_site_df, on='loc')\n",
    "df_m = df_m[df_m['loc'].isin(filtered_ab_site_df['loc'])]\n",
    "df_m = df_m[~df_m['loc'].isin(bad_sites)]\n",
    "df_m['adjusted_alt'] = df_m['alt_count'] * bias\n",
    "df_m['expected_alt'] = df_m.apply(calculate_expected, axis=1, tot=10)\n",
    "df_m['deviance'] = df_m.apply(calculate_deviance, axis=1)"
   ]
  },
  {
   "cell_type": "code",
   "execution_count": 423,
   "metadata": {
    "collapsed": false
   },
   "outputs": [
    {
     "data": {
      "text/plain": [
       "<matplotlib.collections.PathCollection at 0x7fcdd2ba6e10>"
      ]
     },
     "execution_count": 423,
     "metadata": {},
     "output_type": "execute_result"
    },
    {
     "data": {
      "image/png": "[encoded data removed]",
      "text/plain": [
       "<matplotlib.figure.Figure at 0x7fcdd2c8a5d0>"
      ]
     },
     "metadata": {},
     "output_type": "display_data"
    }
   ],
   "source": [
    "%matplotlib inline\n",
    "import matplotlib.pyplot as plt\n",
    "import seaborn as sns\n",
    "plt.scatter(df_m['loc'], df_m['deviance'], s=3)"
   ]
  },
  {
   "cell_type": "code",
   "execution_count": 351,
   "metadata": {
    "collapsed": false
   },
   "outputs": [
    {
     "data": {
      "text/plain": [
       "<matplotlib.collections.PathCollection at 0x7fcdd304f4d0>"
      ]
     },
     "execution_count": 351,
     "metadata": {},
     "output_type": "execute_result"
    },
    {
     "data": {
      "image/png": "[encoded data removed]",
      "text/plain": [
       "<matplotlib.figure.Figure at 0x7fcdd343f9d0>"
      ]
     },
     "metadata": {},
     "output_type": "display_data"
    }
   ],
   "source": [
    "df_m = filtered_dfs['LP6005519-DNA_E06']\n",
    "df_m = df_m[df_m['loc'].isin(filtered_ab_site_df['loc'])]\n",
    "df_m = df_m[~df_m['loc'].isin(bad_sites)]\n",
    "df_m['adjusted_alt'] = df_m['alt_count'] * bias\n",
    "df_m['expected_alt'] = df_m.apply(calculate_expected, axis=1, tot=10)\n",
    "df_m['deviance'] = df_m.apply(calculate_deviance, axis=1)\n",
    "plt.scatter(df_m['loc'], df_m['deviance'], s=3)"
   ]
  },
  {
   "cell_type": "code",
   "execution_count": null,
   "metadata": {
    "collapsed": true
   },
   "outputs": [],
   "source": [
    "positions = set(ab_site_df['loc'])\n",
    "dev_dfs = {}\n",
    "for n, df in dfs.iteritems():\n",
    "    if n not in m:\n",
    "        continue\n",
    "    num_c, num_d = m[n]\n",
    "    tot = 6 + num_c + num_d\n",
    "    df_m = df.merge(ab_site_df, on='loc')\n",
    "    df_m['NC'] = [x - (2 - num_c) if x != 0 else x for x in df_m['NC']]\n",
    "    df_m['ND'] = [x - (2 - num_d) if x != 0 else x for x in df_m['ND']]\n",
    "    df_m['expected_alt'] = df_m.apply(calculate_expected, axis=1, tot=tot)\n",
    "    df_m['deviance'] = df_m.apply(calculate_deviance, axis=1)\n",
    "    dev_dfs[n] = df_m"
   ]
  },
  {
   "cell_type": "code",
   "execution_count": 343,
   "metadata": {
    "collapsed": false
   },
   "outputs": [
    {
     "data": {
      "text/plain": [
       "<matplotlib.axes._subplots.AxesSubplot at 0x7fcdd3969bd0>"
      ]
     },
     "execution_count": 343,
     "metadata": {},
     "output_type": "execute_result"
    },
    {
     "data": {
      "image/png": "[encoded data removed]",
      "text/plain": [
       "<matplotlib.figure.Figure at 0x7fcdd34897d0>"
      ]
     },
     "metadata": {},
     "output_type": "display_data"
    }
   ],
   "source": [
    "sns.distplot(bias)"
   ]
  },
  {
   "cell_type": "code",
   "execution_count": 565,
   "metadata": {
    "collapsed": false
   },
   "outputs": [],
   "source": [
    "# how does the bias look per unambiguous site? ambiguous?\n",
    "biases = defaultdict(list)\n",
    "for i, b in enumerate(bias):\n",
    "    site = filtered_ab_site_df.iloc[i]\n",
    "    total = site.NAB + site.NC + site.ND + site.NN\n",
    "    if total == 1:\n",
    "        if site.NAB == 1:\n",
    "            biases['AB'].append(b)\n",
    "        elif site.NC == 1:\n",
    "            biases['C'].append(b)\n",
    "        elif site['ND'] == 1:\n",
    "            biases['D'].append(b)\n",
    "        elif site['NN'] == 1:\n",
    "            biases['N'].append(b)\n",
    "    else:\n",
    "        biases['ambig'].append(b)"
   ]
  },
  {
   "cell_type": "code",
   "execution_count": 571,
   "metadata": {
    "collapsed": false
   },
   "outputs": [
    {
     "data": {
      "image/png": "[encoded data removed]",
      "text/plain": [
       "<matplotlib.figure.Figure at 0x7fcdd21b8ed0>"
      ]
     },
     "metadata": {},
     "output_type": "display_data"
    }
   ],
   "source": [
    "fig, axes = plt.subplots(ncols=2, nrows=3, sharex=True, sharey=True)\n",
    "for ax, b in zip(axes.flat, biases):\n",
    "    g = sns.distplot(biases[b], ax=ax)\n",
    "    g.set_title('{}: number sites: {}'.format(b, len(biases[b])))"
   ]
  },
  {
   "cell_type": "code",
   "execution_count": 658,
   "metadata": {
    "collapsed": false
   },
   "outputs": [],
   "source": [
    "# save bias vector\n",
    "import cPickle as pickle\n",
    "bias_df = []\n",
    "for i, b in enumerate(bias):\n",
    "    bias_df.append([filtered_ab_site_df.iloc[i]['loc'], b])\n",
    "bias_df = pd.DataFrame(bias_df, columns=['loc', 'bias'])\n",
    "bias_df.to_csv('trained_biases.tsv', sep='\\t')"
   ]
  },
  {
   "cell_type": "code",
   "execution_count": null,
   "metadata": {
    "collapsed": true
   },
   "outputs": [],
   "source": [
    "#for i, b in enumerate(bias):\n",
    "#    if not (0.9 < b < 1.1):\n",
    "#        bad_sites.add(filtered_ab_site_df.iloc[i]['loc'])"
   ]
  }
 ],
 "metadata": {
  "kernelspec": {
   "display_name": "Python [Root]",
   "language": "python",
   "name": "Python [Root]"
  },
  "language_info": {
   "codemirror_mode": {
    "name": "ipython",
    "version": 2
   },
   "file_extension": ".py",
   "mimetype": "text/x-python",
   "name": "python",
   "nbconvert_exporter": "python",
   "pygments_lexer": "ipython2",
   "version": "2.7.11"
  }
 },
 "nbformat": 4,
 "nbformat_minor": 0
}
