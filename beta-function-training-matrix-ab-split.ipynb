{
 "cells": [
  {
   "cell_type": "code",
   "execution_count": 1,
   "metadata": {
    "collapsed": false
   },
   "outputs": [],
   "source": [
    "import pandas as pd\n",
    "from glob import glob\n",
    "import numpy as np\n",
    "from tools.procOps import *\n",
    "from tools.fileOps import *\n",
    "import itertools\n",
    "import multiprocessing\n",
    "from scipy.special import *\n",
    "from tools.bio import *"
   ]
  },
  {
   "cell_type": "code",
   "execution_count": 3,
   "metadata": {
    "collapsed": false
   },
   "outputs": [
    {
     "data": {
      "text/html": [
       "<div>\n",
       "<table border=\"1\" class=\"dataframe\">\n",
       "  <thead>\n",
       "    <tr style=\"text-align: right;\">\n",
       "      <th></th>\n",
       "      <th>loc</th>\n",
       "      <th>NA</th>\n",
       "      <th>NB</th>\n",
       "      <th>NC</th>\n",
       "      <th>ND</th>\n",
       "      <th>NN</th>\n",
       "    </tr>\n",
       "  </thead>\n",
       "  <tbody>\n",
       "    <tr>\n",
       "      <th>0</th>\n",
       "      <td>56</td>\n",
       "      <td>0</td>\n",
       "      <td>0</td>\n",
       "      <td>0</td>\n",
       "      <td>0</td>\n",
       "      <td>1</td>\n",
       "    </tr>\n",
       "    <tr>\n",
       "      <th>1</th>\n",
       "      <td>178</td>\n",
       "      <td>0</td>\n",
       "      <td>0</td>\n",
       "      <td>0</td>\n",
       "      <td>1</td>\n",
       "      <td>0</td>\n",
       "    </tr>\n",
       "    <tr>\n",
       "      <th>2</th>\n",
       "      <td>240</td>\n",
       "      <td>0</td>\n",
       "      <td>0</td>\n",
       "      <td>0</td>\n",
       "      <td>0</td>\n",
       "      <td>1</td>\n",
       "    </tr>\n",
       "    <tr>\n",
       "      <th>3</th>\n",
       "      <td>386</td>\n",
       "      <td>1</td>\n",
       "      <td>1</td>\n",
       "      <td>0</td>\n",
       "      <td>0</td>\n",
       "      <td>0</td>\n",
       "    </tr>\n",
       "    <tr>\n",
       "      <th>4</th>\n",
       "      <td>393</td>\n",
       "      <td>1</td>\n",
       "      <td>0</td>\n",
       "      <td>0</td>\n",
       "      <td>0</td>\n",
       "      <td>0</td>\n",
       "    </tr>\n",
       "  </tbody>\n",
       "</table>\n",
       "</div>"
      ],
      "text/plain": [
       "   loc  NA  NB  NC  ND  NN\n",
       "0   56   0   0   0   0   1\n",
       "1  178   0   0   0   1   0\n",
       "2  240   0   0   0   0   1\n",
       "3  386   1   1   0   0   0\n",
       "4  393   1   0   0   0   0"
      ]
     },
     "execution_count": 3,
     "metadata": {},
     "output_type": "execute_result"
    }
   ],
   "source": [
    "sun_df = pd.read_csv('copy_number/hg38_features_split_a_b.txt', sep='\\t')\n",
    "sun_df.columns = ['loc', 'NA', 'NB', 'NC', 'ND', 'NN']\n",
    "sun_df['NA'] = [1 if x > 0 else 0 for x in sun_df['NA']]\n",
    "sun_df['NB'] = [1 if x > 0 else 0 for x in sun_df['NB']]\n",
    "sun_df['NC'] = [1 if x > 0 else 0 for x in sun_df['NC']]\n",
    "sun_df['ND'] = [1 if x > 0 else 0 for x in sun_df['ND']]\n",
    "sun_df['NN'] = [1 if x > 0 else 0 for x in sun_df['NN']]\n",
    "sun_df.head()"
   ]
  },
  {
   "cell_type": "code",
   "execution_count": 4,
   "metadata": {
    "collapsed": false
   },
   "outputs": [],
   "source": [
    "# remove bad positions\n",
    "bad_positions = set([48646, 75180, 17731, 43539, 2967, 54815, 64033, 89900, 66088, 68137, 90156, 85939, 87309, 70198, 54452, 1594, 77455, 8253, 73792, 7776, 60995, 44613, 96353, 24138, 48718, 13391, 47185, 24659, 29269, 13913, 23133, 68191, 29280, 69729, 1635, 88677, 10513, 74860, 54893, 90226, 57973, 74358, 58487, 82556, 10517, 76419, 59524, 74373, 41094, 8843, 63630, 74383, 5267, 57493, 12439, 35992, 85862, 3235, 48297, 68722, 24754, 74420, 95925, 7356, 7871, 38598, 18209, 5841, 39122, 67796, 68309, 94430, 6370, 93478, 49894, 37095, 52457, 16620, 92397, 60142, 76015, 41712, 93480, 41716, 54006, 22990, 48376, 16597, 92418, 40711, 93484, 63242, 26380, 898, 92431, 29144, 49941, 43799, 48409, 91419, 90398, 92448, 25889, 64803, 10534, 24359, 39720, 46889, 93482, 25900, 93486, 76080, 20276, 78646, 53056, 86339, 76104, 41186, 14670, 67410, 23382, 83803, 17245, 17760, 63844, 88806, 74086, 26983, 46953, 88039, 878, 12655, 16345, 7957, 38774, 50409, 386, 1496, 41878, 66952, 393, 53655, 60815, 15250, 58691, 41454, 64406, 70039, 2459, 11679, 86432, 34203, 94628, 2469, 72614, 84903, 74664, 42921, 29100, 40370, 37299, 78266, 9149, 61385, 65996, 29133, 85454, 89553, 45522, 21459, 27096, 47065, 51164, 76769, 8674, 85806, 56292, 88037, 89169, 47080, 54766, 30196, 70649, 70651, 31230, 92159])\n",
    "sun_df = sun_df[~sun_df['loc'].isin(bad_positions)]"
   ]
  },
  {
   "cell_type": "code",
   "execution_count": 5,
   "metadata": {
    "collapsed": true
   },
   "outputs": [],
   "source": [
    "# load parsed pileups\n",
    "files = glob('/hive/users/ifiddes/simons_normals/96kb_consensus/*.parsed_pileup.txt')\n",
    "dfs = {}\n",
    "for f in files:\n",
    "    n = os.path.basename(f).split('.')[0]\n",
    "    dfs[n] = pd.read_csv(f, sep='\\t', index_col=0)"
   ]
  },
  {
   "cell_type": "code",
   "execution_count": 6,
   "metadata": {
    "collapsed": false
   },
   "outputs": [],
   "source": [
    "# load C/D copy number estimates\n",
    "\n",
    "files = glob('/hive/users/ifiddes/simons_normals/*.filtered.txt')\n",
    "\n",
    "from collections import Counter\n",
    "def convert(x):\n",
    "    x = x.split(':')\n",
    "    n, v = x\n",
    "    v = int(v)\n",
    "    return n, v\n",
    "\n",
    "copy_number = {}\n",
    "for x in files:\n",
    "    n = os.path.basename(x).split('.')[0]\n",
    "    l = open(x).next().rstrip().split()\n",
    "    c = []\n",
    "    for x in l[2:4]:\n",
    "        _, v = convert(x)\n",
    "        c.append(v)\n",
    "    copy_number[n] = c"
   ]
  },
  {
   "cell_type": "code",
   "execution_count": 7,
   "metadata": {
    "collapsed": true
   },
   "outputs": [],
   "source": [
    "# filter dataframes for C = 2 and D = 2\n",
    "# also filter for informative positions\n",
    "filtered_dfs = {}\n",
    "for n, df in dfs.iteritems():\n",
    "    c = copy_number[n]\n",
    "    if sum(c) != 4:\n",
    "        continue\n",
    "    df_m = df.merge(sun_df, on='loc')\n",
    "    df_m = df_m[df_m['loc'].isin(sun_df['loc'])]\n",
    "    filtered_dfs[n] = df_m"
   ]
  },
  {
   "cell_type": "code",
   "execution_count": 8,
   "metadata": {
    "collapsed": true
   },
   "outputs": [],
   "source": [
    "useful_positions = set.intersection(*[set(x['loc']) for x in filtered_dfs.itervalues()])\n",
    "filtered_sun_df = sun_df[sun_df['loc'].isin(useful_positions)]"
   ]
  },
  {
   "cell_type": "code",
   "execution_count": 10,
   "metadata": {
    "collapsed": false
   },
   "outputs": [],
   "source": [
    "k = []\n",
    "l = []\n",
    "actual_alt = []\n",
    "actual_ref = []\n",
    "\n",
    "for n, df_m in filtered_dfs.iteritems():\n",
    "    for _, s in df_m.iterrows():\n",
    "        if s.coverage >= 10 and s.ratio >= 0.01:\n",
    "            num_alt = 2 * s.NA + 2 * s.NB + 2 * s.NC + 2 * s.ND + 2 * s.NN  # number of alt paratypes\n",
    "            num_ref = 10 - num_alt  # valid because these are all 4-2-2-2\n",
    "            k.append(num_alt)\n",
    "            l.append(num_ref)\n",
    "            actual_alt.append(s.alt_count)\n",
    "            actual_ref.append(s.ref_count)\n",
    "        else:\n",
    "            k.append(0)\n",
    "            l.append(0)\n",
    "            actual_alt.append(0)\n",
    "            actual_ref.append(0)"
   ]
  },
  {
   "cell_type": "code",
   "execution_count": 11,
   "metadata": {
    "collapsed": true
   },
   "outputs": [],
   "source": [
    "k = np.array(k).reshape(df_m.shape[0], len(filtered_dfs))\n",
    "l = np.array(l).reshape(df_m.shape[0], len(filtered_dfs))\n",
    "actual_alt = np.array(actual_alt).reshape(df_m.shape[0], len(filtered_dfs))\n",
    "actual_ref = np.array(actual_ref).reshape(df_m.shape[0], len(filtered_dfs))"
   ]
  },
  {
   "cell_type": "code",
   "execution_count": 17,
   "metadata": {
    "collapsed": true
   },
   "outputs": [],
   "source": [
    "# all proposed genotypes\n",
    "def construct_C(max_n=12, min_n=8, k=5):\n",
    "    list1=np.arange(0,6)\n",
    "    r = []\n",
    "    for i in itertools.product(list1,repeat=k):\n",
    "        if min_n <= np.sum(i) <= max_n:\n",
    "            r.append(i)\n",
    "    return np.array(r)\n",
    "\n",
    "C = construct_C()"
   ]
  },
  {
   "cell_type": "code",
   "execution_count": 20,
   "metadata": {
    "collapsed": false
   },
   "outputs": [],
   "source": [
    "# number of haplotypes that are expected to be alt in each C\n",
    "ft = filtered_sun_df.set_index('loc').T\n",
    "alt_options = np.dot(C, ft)\n",
    "\n",
    "# ref options -- first construct vector of total number of paratypes in each row of C\n",
    "tot = C.sum(axis=1)\n",
    "tot = np.array([tot] * alt_options.shape[1]).T # turn into total matrix\n",
    "ref_options = tot - alt_options  # remove alt to get ref counts"
   ]
  },
  {
   "cell_type": "code",
   "execution_count": 21,
   "metadata": {
    "collapsed": false
   },
   "outputs": [],
   "source": [
    "#precompute tot\n",
    "tot = np.nansum(actual_alt, axis=1) + np.nansum(actual_ref, axis=1)"
   ]
  },
  {
   "cell_type": "code",
   "execution_count": 22,
   "metadata": {
    "collapsed": false
   },
   "outputs": [],
   "source": [
    "a_matrix = []\n",
    "b_matrix = []\n",
    "for a, b in zip(alt_options, ref_options):\n",
    "    alt = (np.divide(k, np.vstack(a + 0.1)) * actual_alt).sum(axis=1)\n",
    "    ref = (np.divide(l, np.vstack(b + 0.1)) * actual_ref).sum(axis=1)\n",
    "    for i, (x, y) in enumerate(zip(alt, ref)):\n",
    "        if np.isnan(x):\n",
    "            alt[i] = 0.01 * y\n",
    "        elif np.isnan(y):\n",
    "            ref[i] = 0.01 * x\n",
    "        assert not np.isnan(alt[i])\n",
    "    u = alt / (alt + ref)\n",
    "    a = u * (tot - 1)\n",
    "    b = (1 - u) * (tot -1 )\n",
    "    a_matrix.append(a)\n",
    "    b_matrix.append(b)"
   ]
  },
  {
   "cell_type": "code",
   "execution_count": 23,
   "metadata": {
    "collapsed": true
   },
   "outputs": [],
   "source": [
    "a_matrix = np.array(a_matrix)\n",
    "b_matrix = np.array(b_matrix)"
   ]
  },
  {
   "cell_type": "code",
   "execution_count": 25,
   "metadata": {
    "collapsed": false
   },
   "outputs": [],
   "source": [
    "m = []\n",
    "n = []\n",
    "target_coverage = 200\n",
    "for _, s in filtered_sun_df.iterrows():\n",
    "    x = (2.0 * s.NA + s.NB + s.NC + s.ND + s.NN) / 10 * target_coverage\n",
    "    y = target_coverage - x\n",
    "    m.append(x)\n",
    "    n.append(y)"
   ]
  },
  {
   "cell_type": "code",
   "execution_count": 26,
   "metadata": {
    "collapsed": false
   },
   "outputs": [],
   "source": [
    "# test\n",
    "\n",
    "r_values = []\n",
    "for a, b in zip(a_matrix, b_matrix):\n",
    "    r_values.append(np.sum(betaln(m + a, n + b) - betaln(a, b)))"
   ]
  },
  {
   "cell_type": "code",
   "execution_count": 27,
   "metadata": {
    "collapsed": false
   },
   "outputs": [],
   "source": [
    "r_map = {i: x for i, x in enumerate(r_values)}\n",
    "best_index, score = sorted(r_map.iteritems(), key=lambda x: x[1])[-1]\n",
    "best_haps = C[best_index]\n",
    "ordered = sorted(r_map.iteritems(), key=lambda x: x[1])[-10:][::-1]"
   ]
  },
  {
   "cell_type": "code",
   "execution_count": 28,
   "metadata": {
    "collapsed": false
   },
   "outputs": [
    {
     "name": "stdout",
     "output_type": "stream",
     "text": [
      "log odds: -90547.7740275\n",
      "\n",
      "results: \n",
      "NA: 1\n",
      "NB: 1\n",
      "NC: 2\n",
      "ND: 2\n",
      "NN: 2\n",
      "NA NB NC ND NN\n",
      "top 10 hits:\n",
      "1: [array([1, 1, 2, 2, 2]), 831, -90547.774027524792]\n",
      "2: [array([1, 1, 3, 2, 2]), 857, -90602.882850657959]\n",
      "3: [array([1, 1, 3, 2, 3]), 858, -90835.286303466099]\n",
      "4: [array([1, 2, 3, 2, 3]), 995, -91123.109345410616]\n",
      "5: [array([2, 1, 3, 2, 3]), 1535, -91314.782924877698]\n",
      "6: [array([1, 2, 3, 3, 3]), 1000, -91404.069658403256]\n",
      "7: [array([1, 2, 4, 2, 3]), 1019, -91486.604064697778]\n",
      "8: [array([2, 1, 3, 3, 3]), 1540, -91567.670955308713]\n",
      "9: [array([1, 1, 4, 2, 3]), 885, -91648.355608062688]\n",
      "10: [array([2, 1, 4, 2, 3]), 1559, -91649.836772015347]\n"
     ]
    }
   ],
   "source": [
    "print 'log odds: {}'.format(score)\n",
    "print ''\n",
    "print 'results: '\n",
    "for x, y in zip(filtered_sun_df.columns[1:], best_haps):\n",
    "    if y > 0:\n",
    "        print '{}: {}'.format(x, y)\n",
    "\n",
    "print ' '.join(filtered_sun_df.columns[1:])\n",
    "print 'top 10 hits:'\n",
    "for i, x in enumerate([[C[pos], pos, val] for pos, val in ordered], 1):\n",
    "    print '{}: {}'.format(i, x)\n"
   ]
  },
  {
   "cell_type": "code",
   "execution_count": 14,
   "metadata": {
    "collapsed": false
   },
   "outputs": [
    {
     "name": "stdout",
     "output_type": "stream",
     "text": [
      "{\n",
      "  \"stdin_port\": 44804, \n",
      "  \"ip\": \"127.0.0.1\", \n",
      "  \"control_port\": 37590, \n",
      "  \"hb_port\": 34893, \n",
      "  \"signature_scheme\": \"hmac-sha256\", \n",
      "  \"key\": \"70a5b8cb-5372-48ff-958e-1c752754b9f0\", \n",
      "  \"kernel_name\": \"\", \n",
      "  \"shell_port\": 33155, \n",
      "  \"transport\": \"tcp\", \n",
      "  \"iopub_port\": 34298\n",
      "}\n",
      "\n",
      "Paste the above JSON into a file, and connect with:\n",
      "    $> ipython <app> --existing <file>\n",
      "or, if you are local, you can connect with just:\n",
      "    $> ipython <app> --existing /cluster/home/ifiddes/.local/share/jupyter/runtime/kernel-51b5bed3-3128-4132-a0d7-26a31128b203.json \n",
      "or even just:\n",
      "    $> ipython <app> --existing \n",
      "if this is the most recent IPython session you have started.\n"
     ]
    }
   ],
   "source": [
    "%connect_info"
   ]
  },
  {
   "cell_type": "code",
   "execution_count": null,
   "metadata": {
    "collapsed": true
   },
   "outputs": [],
   "source": []
  }
 ],
 "metadata": {
  "kernelspec": {
   "display_name": "Python [Root]",
   "language": "python",
   "name": "Python [Root]"
  },
  "language_info": {
   "codemirror_mode": {
    "name": "ipython",
    "version": 2
   },
   "file_extension": ".py",
   "mimetype": "text/x-python",
   "name": "python",
   "nbconvert_exporter": "python",
   "pygments_lexer": "ipython2",
   "version": "2.7.11"
  }
 },
 "nbformat": 4,
 "nbformat_minor": 0
}
