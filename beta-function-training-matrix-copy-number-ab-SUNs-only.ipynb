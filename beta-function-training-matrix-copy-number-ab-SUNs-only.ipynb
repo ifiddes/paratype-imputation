{
 "cells": [
  {
   "cell_type": "code",
   "execution_count": 1,
   "metadata": {
    "collapsed": false
   },
   "outputs": [],
   "source": [
    "import pandas as pd\n",
    "from glob import glob\n",
    "import numpy as np\n",
    "from tools.procOps import *\n",
    "from tools.fileOps import *\n",
    "from collections import *\n",
    "import itertools\n",
    "from scipy.special import *\n",
    "from tools.bio import *"
   ]
  },
  {
   "cell_type": "code",
   "execution_count": 44,
   "metadata": {
    "collapsed": false
   },
   "outputs": [],
   "source": [
    "# load feature set\n",
    "sun_df = pd.read_csv('hg38_features_ab_merge.txt', sep='\\t')\n",
    "sun_df = sun_df[(sun_df.AB == 4) | (sun_df.AB == 0)]"
   ]
  },
  {
   "cell_type": "code",
   "execution_count": 45,
   "metadata": {
    "collapsed": true
   },
   "outputs": [],
   "source": [
    "sun_df.columns = ['loc', 'NAB', 'NC', 'ND', 'NN']\n",
    "sun_df['NAB'] = [1 if x > 0 else 0 for x in sun_df['NAB']]\n",
    "sun_df['NC'] = [1 if x > 0 else 0 for x in sun_df['NC']]\n",
    "sun_df['ND'] = [1 if x > 0 else 0 for x in sun_df['ND']]\n",
    "sun_df['NN'] = [1 if x > 0 else 0 for x in sun_df['NN']]"
   ]
  },
  {
   "cell_type": "code",
   "execution_count": 46,
   "metadata": {
    "collapsed": false
   },
   "outputs": [],
   "source": [
    "bad_positions = set([22019, 80389, 54799, 88082, 77847, 16413, 69153, 25125, 8113, 85546, 18988, 19503, 65587, 75829, 28726, 48696, 12277, 2621, 14398, 90549, 40517, 2129, 68695, 2136, 62558, 66149, 16993, 43621, 55398, 4202, 60434, 13422, 56509, 96371, 4212, 74357, 86646, 76407, 44664, 30843, 35946, 42113, 39042, 80009, 10892, 4710, 63128, 67739, 30876, 24733, 19474, 91643, 91296, 47265, 23202, 30887, 18088, 52907, 78512, 10417, 58035, 89780, 89782, 48823, 43197, 48928, 31939, 72392, 72394, 32973, 93902, 50389, 45282, 76923, 56558, 65776, 67831, 69880, 91899, 71941, 3337, 9996, 87682, 75535, 62738, 56195, 46356, 25881, 9519, 50461, 15134, 90912, 71472, 26402, 31012, 15656, 24876, 69934, 31023, 98096, 3378, 90420, 76603, 56636, 12260, 87605, 70465, 59716, 76101, 60230, 71782, 84299, 88175, 78162, 61267, 76116, 42837, 9700, 10586, 65373, 76126, 7010, 59236, 14182, 37735, 4978, 50040, 18340, 26497, 76163, 97668, 91969, 9099, 9614, 40341, 94191, 7584, 19952, 69539, 70052, 96173, 87197, 42929, 51637, 38838, 54200, 18363, 94140, 61885, 77758, 43455, 43459, 55749, 50119, 3239, 95223, 94161, 79198, 42454, 64985, 28123, 89052, 94174, 12256, 40865, 27643, 51684, 45542, 2641, 50152, 93162, 28839, 92141, 87549, 27632, 48808, 66546, 52152, 95221, 26102, 41463, 48632, 95225, 95227, 95229, 77823])\n",
    "\n",
    "bad_sites = {3707,\n",
    " 4318,\n",
    " 4320,\n",
    " 4993,\n",
    " 5919,\n",
    " 7067,\n",
    " 7109,\n",
    " 7127,\n",
    " 7168,\n",
    " 7946,\n",
    " 9975,\n",
    " 14533,\n",
    " 14895,\n",
    " 16399,\n",
    " 16634,\n",
    " 16636,\n",
    " 18995,\n",
    " 19073,\n",
    " 19334,\n",
    " 19519,\n",
    " 19707,\n",
    " 19799,\n",
    " 20061,\n",
    " 20633,\n",
    " 21426,\n",
    " 22136,\n",
    " 25367,\n",
    " 28794,\n",
    " 29037,\n",
    " 29419,\n",
    " 31878,\n",
    " 34102,\n",
    " 35605,\n",
    " 35736,\n",
    " 36957,\n",
    " 37712,\n",
    " 37885,\n",
    " 38249,\n",
    " 38378,\n",
    " 38911,\n",
    " 38970,\n",
    " 39531,\n",
    " 40316,\n",
    " 40893,\n",
    " 40936,\n",
    " 41334,\n",
    " 43560,\n",
    " 43866,\n",
    " 44729,\n",
    " 48317,\n",
    " 48371,\n",
    " 48459,\n",
    " 48494,\n",
    " 48667,\n",
    " 48729,\n",
    " 48850,\n",
    " 50300,\n",
    " 51115,\n",
    " 51277,\n",
    " 52027,\n",
    " 52381,\n",
    " 53881,\n",
    " 54024,\n",
    " 54155,\n",
    " 56412,\n",
    " 59276,\n",
    " 60194,\n",
    " 60211,\n",
    " 60249,\n",
    " 60332,\n",
    " 60777,\n",
    " 61054,\n",
    " 61183,\n",
    " 61269,\n",
    " 61384,\n",
    " 61412,\n",
    " 61520,\n",
    " 61712,\n",
    " 61751,\n",
    " 61871,\n",
    " 61879,\n",
    " 61935,\n",
    " 62062,\n",
    " 62183,\n",
    " 62241,\n",
    " 62255,\n",
    " 62634,\n",
    " 62663,\n",
    " 62673,\n",
    " 62727,\n",
    " 62933,\n",
    " 63065,\n",
    " 63582,\n",
    " 63597,\n",
    " 63659,\n",
    " 63839,\n",
    " 64045,\n",
    " 64202,\n",
    " 65517,\n",
    " 65790,\n",
    " 66343,\n",
    " 66364,\n",
    " 66422,\n",
    " 66563,\n",
    " 67142,\n",
    " 67708,\n",
    " 67759,\n",
    " 68504,\n",
    " 68540,\n",
    " 68618,\n",
    " 68781,\n",
    " 68829,\n",
    " 69027,\n",
    " 69555,\n",
    " 70323,\n",
    " 70991,\n",
    " 71286,\n",
    " 72523,\n",
    " 73523,\n",
    " 73872,\n",
    " 74402,\n",
    " 74453,\n",
    " 74715,\n",
    " 74988,\n",
    " 75378,\n",
    " 75685,\n",
    " 76273,\n",
    " 76318,\n",
    " 77952,\n",
    " 77974,\n",
    " 77993,\n",
    " 83971,\n",
    " 84665,\n",
    " 85952,\n",
    " 86216,\n",
    " 86295,\n",
    " 86801,\n",
    " 86915,\n",
    " 87000,\n",
    " 88135,\n",
    " 89160,\n",
    " 89444,\n",
    " 89449,\n",
    " 89849,\n",
    " 89878,\n",
    " 90003,\n",
    " 90052,\n",
    " 90150,\n",
    " 90808,\n",
    " 91023,\n",
    " 91308,\n",
    " 91748,\n",
    " 91784,\n",
    " 91799,\n",
    " 92254,\n",
    " 92594,\n",
    " 92684,\n",
    " 93655,\n",
    " 94116,\n",
    " 94612,\n",
    " 94728,\n",
    " 94754,\n",
    " 94788,\n",
    " 95231,\n",
    " 95493,\n",
    " 95678,\n",
    " 96330,\n",
    " 96369,\n",
    " 97720,\n",
    " 97972,\n",
    " 97980}\n",
    "sun_df = sun_df[~sun_df['loc'].isin(bad_positions | bad_sites)]"
   ]
  },
  {
   "cell_type": "code",
   "execution_count": 11,
   "metadata": {
    "collapsed": false
   },
   "outputs": [],
   "source": [
    "# now try this on real data\n",
    "\n",
    "# load parsed pileups\n",
    "files = glob('/hive/users/ifiddes/simons_normals/*.parsed_pileup.txt')\n",
    "dfs = {}\n",
    "for f in files:\n",
    "    n = os.path.basename(f).split('.')[0]\n",
    "    dfs[n] = pd.read_csv(f, sep='\\t', index_col=0)\n",
    "    \n",
    "# load C/D copy number estimates\n",
    "\n",
    "files = glob('/hive/users/ifiddes/simons_normals/*.filtered.txt')\n",
    "def convert(x):\n",
    "    x = x.split(':')\n",
    "    n, v = x\n",
    "    v = int(v)\n",
    "    return n, v\n",
    "\n",
    "copy_number = {}\n",
    "for x in files:\n",
    "    n = os.path.basename(x).split('.')[0]\n",
    "    l = open(x).next().rstrip().split()\n",
    "    c = []\n",
    "    for x in l[2:4]:\n",
    "        _, v = convert(x)\n",
    "        c.append(v)\n",
    "    copy_number[n] = c\n",
    "    \n",
    "    \n",
    "# filter dataframes for C = 2 and D = 2\n",
    "# also filter for informative positions\n",
    "filtered_dfs = {}\n",
    "for n, df in dfs.iteritems():\n",
    "    c = copy_number[n]\n",
    "    if sum(c) != 4:\n",
    "        continue\n",
    "    df_m = df.merge(sun_df, on='loc')\n",
    "    df_m = df_m[df_m['loc'].isin(sun_df['loc'])]\n",
    "    filtered_dfs[n] = df_m"
   ]
  },
  {
   "cell_type": "code",
   "execution_count": 47,
   "metadata": {
    "collapsed": true
   },
   "outputs": [],
   "source": [
    "# filter SUNs because there are 3 loci missing in the real data for some reason\n",
    "filtered_sun_df = sun_df[sun_df['loc'].isin(df_m['loc'])]"
   ]
  },
  {
   "cell_type": "code",
   "execution_count": 50,
   "metadata": {
    "collapsed": false
   },
   "outputs": [
    {
     "name": "stdout",
     "output_type": "stream",
     "text": [
      "first 10 proposed haplotypes:\n",
      "[[ 0.  0.  2.  5.]\n",
      " [ 0.  0.  3.  4.]\n",
      " [ 0.  0.  3.  5.]\n",
      " [ 0.  0.  4.  3.]\n",
      " [ 0.  0.  4.  4.]\n",
      " [ 0.  0.  4.  5.]\n",
      " [ 0.  0.  5.  2.]\n",
      " [ 0.  0.  5.  3.]\n",
      " [ 0.  0.  5.  4.]\n",
      " [ 0.  0.  5.  5.]]\n"
     ]
    }
   ],
   "source": [
    "# allow anywhere from 7 to 12 haplotypes\n",
    "min_n = 7\n",
    "max_n = 12\n",
    "\n",
    "# range of possible genotypes\n",
    "genotypes = range(0, 6)  # [0, 1, 2, 3, 4, 5]\n",
    "\n",
    "# number of columns\n",
    "num_paratypes = 4\n",
    "r = []\n",
    "for i in itertools.product(genotypes, repeat=num_paratypes):\n",
    "    if min_n <= np.sum(i) <= max_n:\n",
    "        r.append(i)\n",
    "\n",
    "H = np.array(r).astype(float)\n",
    "print 'first 10 proposed haplotypes:'\n",
    "print H[:10]"
   ]
  },
  {
   "cell_type": "code",
   "execution_count": 51,
   "metadata": {
    "collapsed": false
   },
   "outputs": [],
   "source": [
    "# load actual data from pileups into actual_alt, synthetic_alt, depth, s\n",
    "actual_alt = []\n",
    "synthetic_alt = []\n",
    "depth = []\n",
    "s_matrix = []  # genotype matrix\n",
    "\n",
    "\n",
    "# filter using bias from previous iteration\n",
    "f = filtered_sun_df[~filtered_sun_df['loc'].isin(bad_sites)]\n",
    "f = f.set_index('loc').as_matrix()\n",
    "\n",
    "# bad genomes\n",
    "bad_genomes = ['LP6005677-DNA_A02', 'LP6005441-DNA_F01']\n",
    "\n",
    "#seen_genomes = set()\n",
    "for n, df_m in filtered_dfs.items():\n",
    "    if n in bad_genomes:\n",
    "        continue\n",
    "    for _, s in df_m.iterrows():\n",
    "        if s['loc'] not in set(filtered_sun_df['loc']) or s['loc'] in bad_sites:\n",
    "            continue\n",
    "        if s.coverage >= 10 and s.ratio >= 0.01:\n",
    "            actual_alt.append(s.alt_count)\n",
    "            depth.append(s.coverage)\n",
    "        else:\n",
    "            depth.append(0)\n",
    "            actual_alt.append(0)\n",
    "    # always 4-2-2-2\n",
    "    s_matrix.append([4, 2, 2, 2])\n",
    "    #seen_genomes.add(n)"
   ]
  },
  {
   "cell_type": "code",
   "execution_count": 52,
   "metadata": {
    "collapsed": true
   },
   "outputs": [],
   "source": [
    "# calculate total depth at each position\n",
    "tot = []\n",
    "for n, df_m in filtered_dfs.iteritems():\n",
    "    df_m = df_m[(df_m['loc'].isin(filtered_sun_df['loc'])) & (~df_m['loc'].isin(bad_sites))]\n",
    "    tot.append(df_m.coverage)\n",
    "tot = np.array(tot)\n",
    "tot = tot.sum(axis=0)"
   ]
  },
  {
   "cell_type": "code",
   "execution_count": 53,
   "metadata": {
    "collapsed": false
   },
   "outputs": [],
   "source": [
    "depth = np.array(depth).reshape(102, f.shape[0]).T\n",
    "actual_alt = np.array(actual_alt).reshape(102, f.shape[0]).T\n",
    "s = np.array(s_matrix).T"
   ]
  },
  {
   "cell_type": "code",
   "execution_count": 54,
   "metadata": {
    "collapsed": false
   },
   "outputs": [],
   "source": [
    "# calculate synthetic depth for all genomes\n",
    "tsa = (np.multiply(depth, np.dot(f, s)) / 10).sum(axis=1)  # ploidy is always 10"
   ]
  },
  {
   "cell_type": "code",
   "execution_count": 55,
   "metadata": {
    "collapsed": false
   },
   "outputs": [],
   "source": [
    "taa = actual_alt.sum(axis=1)"
   ]
  },
  {
   "cell_type": "code",
   "execution_count": 56,
   "metadata": {
    "collapsed": true
   },
   "outputs": [],
   "source": [
    "depth_total = depth.sum(axis=1)"
   ]
  },
  {
   "cell_type": "code",
   "execution_count": 57,
   "metadata": {
    "collapsed": false
   },
   "outputs": [],
   "source": [
    "synthetic_alt = []\n",
    "for h in H:\n",
    "    synthetic_alt.append(np.multiply(depth_total, np.dot(f, h)) / sum(h))\n",
    "synthetic_alt = np.array(synthetic_alt)"
   ]
  },
  {
   "cell_type": "code",
   "execution_count": 58,
   "metadata": {
    "collapsed": true
   },
   "outputs": [],
   "source": [
    "bias = 1.0 * taa / tsa"
   ]
  },
  {
   "cell_type": "code",
   "execution_count": 59,
   "metadata": {
    "collapsed": false
   },
   "outputs": [],
   "source": [
    "projected_alt = np.multiply(synthetic_alt, bias)"
   ]
  },
  {
   "cell_type": "code",
   "execution_count": 60,
   "metadata": {
    "collapsed": true
   },
   "outputs": [],
   "source": [
    "projected_ref = depth_total - projected_alt"
   ]
  },
  {
   "cell_type": "code",
   "execution_count": 61,
   "metadata": {
    "collapsed": false
   },
   "outputs": [],
   "source": [
    "u = projected_alt / (projected_alt + projected_ref)\n",
    "a_matrix = u * (tot - 1)\n",
    "b_matrix = (1 - u) * (tot  - 1)"
   ]
  },
  {
   "cell_type": "code",
   "execution_count": 62,
   "metadata": {
    "collapsed": true
   },
   "outputs": [],
   "source": [
    "# mix a and b slightly to give noise\n",
    "delta = 0.001\n",
    "aprime = (1 - delta) * a_matrix + delta * b_matrix\n",
    "bprime = (1 - delta) * b_matrix + delta * a_matrix"
   ]
  },
  {
   "cell_type": "code",
   "execution_count": 63,
   "metadata": {
    "collapsed": false
   },
   "outputs": [],
   "source": [
    "# now lets try predicting copy number across the whole cohort\n",
    "\n",
    "def r_fn(aprime, bprime, m, n):\n",
    "    r_values = []\n",
    "    for a, b in zip(aprime, bprime):\n",
    "        r_values.append(np.sum(betaln(m + a, n + b) - betaln(a, b)))\n",
    "    return r_values"
   ]
  },
  {
   "cell_type": "code",
   "execution_count": 64,
   "metadata": {
    "collapsed": true
   },
   "outputs": [],
   "source": [
    "# filter by bias\n",
    "#bad_sites = set()\n",
    "#for i, b in enumerate(bias):\n",
    "#    if not (0.9 < b < 1.1):\n",
    "#        bad_sites.add(filtered_sun_df.iloc[i]['loc'])"
   ]
  },
  {
   "cell_type": "code",
   "execution_count": 65,
   "metadata": {
    "collapsed": false
   },
   "outputs": [],
   "source": [
    "results = []\n",
    "for g, df_m in dfs.iteritems():\n",
    "    df_m = df_m[(df_m['loc'].isin(filtered_sun_df['loc'])) & (~df_m['loc'].isin(bad_sites))]\n",
    "    m = df_m.alt_count\n",
    "    n = df_m.ref_count\n",
    "    r_values = r_fn(aprime, bprime, m, n)\n",
    "    # figure out which one was the best scoring\n",
    "    r_map = {i: x for i, x in enumerate(r_values)}\n",
    "    best_index, score = sorted(r_map.iteritems(), key=lambda x: x[1])[-1]\n",
    "    best_haps = H[best_index]\n",
    "    results.append([g] + list(best_haps))"
   ]
  },
  {
   "cell_type": "code",
   "execution_count": 66,
   "metadata": {
    "collapsed": false
   },
   "outputs": [
    {
     "data": {
      "text/html": [
       "<div>\n",
       "<table border=\"1\" class=\"dataframe\">\n",
       "  <thead>\n",
       "    <tr style=\"text-align: right;\">\n",
       "      <th></th>\n",
       "      <th>genome</th>\n",
       "      <th>NAB</th>\n",
       "      <th>NC</th>\n",
       "      <th>ND</th>\n",
       "      <th>NN</th>\n",
       "    </tr>\n",
       "  </thead>\n",
       "  <tbody>\n",
       "    <tr>\n",
       "      <th>0</th>\n",
       "      <td>SS6004480</td>\n",
       "      <td>5.0</td>\n",
       "      <td>2.0</td>\n",
       "      <td>1.0</td>\n",
       "      <td>3.0</td>\n",
       "    </tr>\n",
       "    <tr>\n",
       "      <th>1</th>\n",
       "      <td>LP6005441-DNA_D11</td>\n",
       "      <td>4.0</td>\n",
       "      <td>2.0</td>\n",
       "      <td>1.0</td>\n",
       "      <td>2.0</td>\n",
       "    </tr>\n",
       "    <tr>\n",
       "      <th>2</th>\n",
       "      <td>LP6005519-DNA_G02</td>\n",
       "      <td>4.0</td>\n",
       "      <td>2.0</td>\n",
       "      <td>1.0</td>\n",
       "      <td>2.0</td>\n",
       "    </tr>\n",
       "    <tr>\n",
       "      <th>3</th>\n",
       "      <td>LP6005519-DNA_G04</td>\n",
       "      <td>4.0</td>\n",
       "      <td>2.0</td>\n",
       "      <td>1.0</td>\n",
       "      <td>2.0</td>\n",
       "    </tr>\n",
       "    <tr>\n",
       "      <th>4</th>\n",
       "      <td>LP6005441-DNA_B03</td>\n",
       "      <td>5.0</td>\n",
       "      <td>2.0</td>\n",
       "      <td>1.0</td>\n",
       "      <td>3.0</td>\n",
       "    </tr>\n",
       "  </tbody>\n",
       "</table>\n",
       "</div>"
      ],
      "text/plain": [
       "              genome  NAB   NC   ND   NN\n",
       "0          SS6004480  5.0  2.0  1.0  3.0\n",
       "1  LP6005441-DNA_D11  4.0  2.0  1.0  2.0\n",
       "2  LP6005519-DNA_G02  4.0  2.0  1.0  2.0\n",
       "3  LP6005519-DNA_G04  4.0  2.0  1.0  2.0\n",
       "4  LP6005441-DNA_B03  5.0  2.0  1.0  3.0"
      ]
     },
     "execution_count": 66,
     "metadata": {},
     "output_type": "execute_result"
    }
   ],
   "source": [
    "results = pd.DataFrame(results, columns=['genome', 'NAB', 'NC', 'ND', 'NN'])\n",
    "results = results[~results.genome.isin(bad_genomes)]\n",
    "results.head()"
   ]
  },
  {
   "cell_type": "code",
   "execution_count": 67,
   "metadata": {
    "collapsed": false
   },
   "outputs": [
    {
     "data": {
      "text/plain": [
       "Counter({3.0: 1, 4.0: 219, 5.0: 44})"
      ]
     },
     "execution_count": 67,
     "metadata": {},
     "output_type": "execute_result"
    }
   ],
   "source": [
    "Counter(results.NAB)"
   ]
  },
  {
   "cell_type": "code",
   "execution_count": 68,
   "metadata": {
    "collapsed": false
   },
   "outputs": [
    {
     "data": {
      "text/plain": [
       "Counter({0.0: 1, 1.0: 17, 2.0: 244, 3.0: 2})"
      ]
     },
     "execution_count": 68,
     "metadata": {},
     "output_type": "execute_result"
    }
   ],
   "source": [
    "Counter(results.NC)"
   ]
  },
  {
   "cell_type": "code",
   "execution_count": 69,
   "metadata": {
    "collapsed": false
   },
   "outputs": [
    {
     "data": {
      "text/plain": [
       "Counter({0.0: 36, 1.0: 107, 2.0: 120, 3.0: 1})"
      ]
     },
     "execution_count": 69,
     "metadata": {},
     "output_type": "execute_result"
    }
   ],
   "source": [
    "Counter(results.ND)"
   ]
  },
  {
   "cell_type": "code",
   "execution_count": 70,
   "metadata": {
    "collapsed": false
   },
   "outputs": [
    {
     "data": {
      "text/plain": [
       "Counter({2.0: 209, 3.0: 51, 4.0: 4})"
      ]
     },
     "execution_count": 70,
     "metadata": {},
     "output_type": "execute_result"
    }
   ],
   "source": [
    "Counter(results.NN)"
   ]
  },
  {
   "cell_type": "code",
   "execution_count": 71,
   "metadata": {
    "collapsed": false
   },
   "outputs": [
    {
     "data": {
      "text/plain": [
       "Counter({7.0: 2, 8.0: 12, 9.0: 85, 10.0: 143, 11.0: 22})"
      ]
     },
     "execution_count": 71,
     "metadata": {},
     "output_type": "execute_result"
    }
   ],
   "source": [
    "Counter(results.set_index('genome').sum(axis=1))"
   ]
  },
  {
   "cell_type": "code",
   "execution_count": 367,
   "metadata": {
    "collapsed": false
   },
   "outputs": [
    {
     "name": "stdout",
     "output_type": "stream",
     "text": [
      "log odds: -83474.0862732\n",
      "\n",
      "results: \n",
      "NAB: 4.0\n",
      "NC: 3.0\n",
      "ND: 2.0\n",
      "NN: 2.0\n",
      "NAB NC ND NN\n",
      "top 10 hits:\n",
      "1: [array([ 4.,  3.,  2.,  2.]), 545, -83474.08627319903]\n",
      "2: [array([ 5.,  3.,  2.,  2.]), 656, -83707.78800432892]\n",
      "3: [array([ 4.,  4.,  2.,  2.]), 564, -83938.25200824531]\n",
      "4: [array([ 3.,  3.,  2.,  2.]), 416, -83950.13466311186]\n",
      "5: [array([ 4.,  2.,  2.,  2.]), 521, -84051.0668517208]\n",
      "6: [array([ 4.,  3.,  3.,  2.]), 549, -84073.36539367499]\n",
      "7: [array([ 3.,  2.,  1.,  2.]), 384, -84081.84400771832]\n",
      "8: [array([ 3.,  2.,  2.,  1.]), 388, -84119.16395575868]\n",
      "9: [array([ 4.,  3.,  2.,  3.]), 546, -84128.56204784538]\n",
      "10: [array([ 3.,  3.,  1.,  2.]), 410, -84404.7162094571]\n"
     ]
    }
   ],
   "source": [
    "# figure out which one was the best scoring\n",
    "m = df_m.alt_count\n",
    "n = df_m.ref_count\n",
    "r_values = r_fn(aprime, bprime, m, n)\n",
    "# figure out which one was the best scoring\n",
    "r_map = {i: x for i, x in enumerate(r_values)}\n",
    "best_index, score = sorted(r_map.iteritems(), key=lambda x: x[1])[-1]\n",
    "best_haps = H[best_index]\n",
    "ordered = sorted(r_map.iteritems(), key=lambda x: x[1])[-10:][::-1]\n",
    "print 'log odds: {}'.format(score)\n",
    "print ''\n",
    "print 'results: '\n",
    "for x, y in zip(sun_df.columns[1:], best_haps):\n",
    "    if y > 0:\n",
    "        print '{}: {}'.format(x, y)\n",
    "\n",
    "print ' '.join(sun_df.columns[1:])\n",
    "print 'top 10 hits:'\n",
    "for i, x in enumerate([[H[pos], pos, val] for pos, val in ordered], 1):\n",
    "    print '{}: {}'.format(i, x)\n"
   ]
  },
  {
   "cell_type": "code",
   "execution_count": 422,
   "metadata": {
    "collapsed": false
   },
   "outputs": [],
   "source": [
    "def calculate_deviance(s):\n",
    "    if s.alt_count == 0 or s.coverage <= 20:\n",
    "        return None\n",
    "    deviance = (s.adjusted_alt - s.alt_count) / (np.sqrt(1.0 * s.coverage * s.ratio * (1 - s.ratio)))\n",
    "    #deviance = (s.expected_alt - s.alt_count) / (np.sqrt(1.0 * s.coverage * s.ratio * (1 - s.ratio)))\n",
    "    return deviance\n",
    "\n",
    "\n",
    "def calculate_expected(s, tot):\n",
    "    \"\"\"Expected value\"\"\"\n",
    "    expected_ratio = (1.0 * s.NAB + s.NC + s.ND + s.NN) / tot\n",
    "    return expected_ratio * s.coverage\n",
    "\n",
    "\n",
    "df = dfs['LP6005592-DNA_H03']\n",
    "df_m = df.merge(sun_df, on='loc')\n",
    "df_m = df_m[df_m['loc'].isin(filtered_sun_df['loc'])]\n",
    "df_m = df_m[~df_m['loc'].isin(bad_sites)]\n",
    "df_m['adjusted_alt'] = df_m['alt_count'] * bias\n",
    "df_m['expected_alt'] = df_m.apply(calculate_expected, axis=1, tot=10)\n",
    "df_m['deviance'] = df_m.apply(calculate_deviance, axis=1)"
   ]
  },
  {
   "cell_type": "code",
   "execution_count": 423,
   "metadata": {
    "collapsed": false
   },
   "outputs": [
    {
     "data": {
      "text/plain": [
       "<matplotlib.collections.PathCollection at 0x7fcdd2ba6e10>"
      ]
     },
     "execution_count": 423,
     "metadata": {},
     "output_type": "execute_result"
    },
    {
     "data": {
      "image/png": "[encoded data removed]",
      "text/plain": [
       "<matplotlib.figure.Figure at 0x7fcdd2c8a5d0>"
      ]
     },
     "metadata": {},
     "output_type": "display_data"
    }
   ],
   "source": [
    "%matplotlib inline\n",
    "import matplotlib.pyplot as plt\n",
    "import seaborn as sns\n",
    "plt.scatter(df_m['loc'], df_m['deviance'], s=3)"
   ]
  },
  {
   "cell_type": "code",
   "execution_count": 351,
   "metadata": {
    "collapsed": false
   },
   "outputs": [
    {
     "data": {
      "text/plain": [
       "<matplotlib.collections.PathCollection at 0x7fcdd304f4d0>"
      ]
     },
     "execution_count": 351,
     "metadata": {},
     "output_type": "execute_result"
    },
    {
     "data": {
      "image/png": "[encoded data removed]",
      "text/plain": [
       "<matplotlib.figure.Figure at 0x7fcdd343f9d0>"
      ]
     },
     "metadata": {},
     "output_type": "display_data"
    }
   ],
   "source": [
    "df_m = filtered_dfs['LP6005519-DNA_E06']\n",
    "df_m = df_m[df_m['loc'].isin(filtered_sun_df['loc'])]\n",
    "df_m = df_m[~df_m['loc'].isin(bad_sites)]\n",
    "df_m['adjusted_alt'] = df_m['alt_count'] * bias\n",
    "df_m['expected_alt'] = df_m.apply(calculate_expected, axis=1, tot=10)\n",
    "df_m['deviance'] = df_m.apply(calculate_deviance, axis=1)\n",
    "plt.scatter(df_m['loc'], df_m['deviance'], s=3)"
   ]
  },
  {
   "cell_type": "code",
   "execution_count": null,
   "metadata": {
    "collapsed": true
   },
   "outputs": [],
   "source": [
    "positions = set(sun_df['loc'])\n",
    "dev_dfs = {}\n",
    "for n, df in dfs.iteritems():\n",
    "    if n not in m:\n",
    "        continue\n",
    "    num_c, num_d = m[n]\n",
    "    tot = 6 + num_c + num_d\n",
    "    df_m = df.merge(sun_df, on='loc')\n",
    "    df_m['NC'] = [x - (2 - num_c) if x != 0 else x for x in df_m['NC']]\n",
    "    df_m['ND'] = [x - (2 - num_d) if x != 0 else x for x in df_m['ND']]\n",
    "    df_m['expected_alt'] = df_m.apply(calculate_expected, axis=1, tot=tot)\n",
    "    df_m['deviance'] = df_m.apply(calculate_deviance, axis=1)\n",
    "    dev_dfs[n] = df_m"
   ]
  },
  {
   "cell_type": "code",
   "execution_count": 343,
   "metadata": {
    "collapsed": false
   },
   "outputs": [
    {
     "data": {
      "text/plain": [
       "<matplotlib.axes._subplots.AxesSubplot at 0x7fcdd3969bd0>"
      ]
     },
     "execution_count": 343,
     "metadata": {},
     "output_type": "execute_result"
    },
    {
     "data": {
      "image/png": "[encoded data removed]",
      "text/plain": [
       "<matplotlib.figure.Figure at 0x7fcdd34897d0>"
      ]
     },
     "metadata": {},
     "output_type": "display_data"
    }
   ],
   "source": [
    "sns.distplot(bias)"
   ]
  },
  {
   "cell_type": "code",
   "execution_count": 40,
   "metadata": {
    "collapsed": false
   },
   "outputs": [
    {
     "name": "stdout",
     "output_type": "stream",
     "text": [
      "{\n",
      "  \"stdin_port\": 49627, \n",
      "  \"ip\": \"127.0.0.1\", \n",
      "  \"control_port\": 52852, \n",
      "  \"hb_port\": 55115, \n",
      "  \"signature_scheme\": \"hmac-sha256\", \n",
      "  \"key\": \"2adb10bd-d4d4-4903-8998-4a1da37eeab3\", \n",
      "  \"kernel_name\": \"\", \n",
      "  \"shell_port\": 40646, \n",
      "  \"transport\": \"tcp\", \n",
      "  \"iopub_port\": 33122\n",
      "}\n",
      "\n",
      "Paste the above JSON into a file, and connect with:\n",
      "    $> ipython <app> --existing <file>\n",
      "or, if you are local, you can connect with just:\n",
      "    $> ipython <app> --existing /cluster/home/ifiddes/.local/share/jupyter/runtime/kernel-8c0b43c0-8559-419d-bfab-e74f021b83ed.json \n",
      "or even just:\n",
      "    $> ipython <app> --existing \n",
      "if this is the most recent IPython session you have started.\n"
     ]
    }
   ],
   "source": [
    "%connect_info"
   ]
  },
  {
   "cell_type": "code",
   "execution_count": null,
   "metadata": {
    "collapsed": true
   },
   "outputs": [],
   "source": []
  }
 ],
 "metadata": {
  "kernelspec": {
   "display_name": "Python [Root]",
   "language": "python",
   "name": "Python [Root]"
  },
  "language_info": {
   "codemirror_mode": {
    "name": "ipython",
    "version": 2
   },
   "file_extension": ".py",
   "mimetype": "text/x-python",
   "name": "python",
   "nbconvert_exporter": "python",
   "pygments_lexer": "ipython2",
   "version": "2.7.11"
  }
 },
 "nbformat": 4,
 "nbformat_minor": 0
}
