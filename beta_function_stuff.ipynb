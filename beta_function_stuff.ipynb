{
 "cells": [
  {
   "cell_type": "code",
   "execution_count": 83,
   "metadata": {
    "collapsed": false
   },
   "outputs": [
    {
     "data": {
      "text/html": [
       "<div>\n",
       "<table border=\"1\" class=\"dataframe\">\n",
       "  <thead>\n",
       "    <tr style=\"text-align: right;\">\n",
       "      <th></th>\n",
       "      <th>loc</th>\n",
       "      <th>NAB</th>\n",
       "      <th>NC</th>\n",
       "      <th>ND</th>\n",
       "      <th>NN</th>\n",
       "    </tr>\n",
       "  </thead>\n",
       "  <tbody>\n",
       "    <tr>\n",
       "      <th>0</th>\n",
       "      <td>56</td>\n",
       "      <td>0</td>\n",
       "      <td>0</td>\n",
       "      <td>0</td>\n",
       "      <td>2</td>\n",
       "    </tr>\n",
       "    <tr>\n",
       "      <th>1</th>\n",
       "      <td>178</td>\n",
       "      <td>0</td>\n",
       "      <td>0</td>\n",
       "      <td>2</td>\n",
       "      <td>0</td>\n",
       "    </tr>\n",
       "    <tr>\n",
       "      <th>2</th>\n",
       "      <td>240</td>\n",
       "      <td>0</td>\n",
       "      <td>0</td>\n",
       "      <td>0</td>\n",
       "      <td>2</td>\n",
       "    </tr>\n",
       "    <tr>\n",
       "      <th>3</th>\n",
       "      <td>386</td>\n",
       "      <td>4</td>\n",
       "      <td>0</td>\n",
       "      <td>0</td>\n",
       "      <td>0</td>\n",
       "    </tr>\n",
       "    <tr>\n",
       "      <th>4</th>\n",
       "      <td>393</td>\n",
       "      <td>2</td>\n",
       "      <td>0</td>\n",
       "      <td>0</td>\n",
       "      <td>0</td>\n",
       "    </tr>\n",
       "  </tbody>\n",
       "</table>\n",
       "</div>"
      ],
      "text/plain": [
       "   loc  NAB  NC  ND  NN\n",
       "0   56    0   0   0   2\n",
       "1  178    0   0   2   0\n",
       "2  240    0   0   0   2\n",
       "3  386    4   0   0   0\n",
       "4  393    2   0   0   0"
      ]
     },
     "execution_count": 83,
     "metadata": {},
     "output_type": "execute_result"
    }
   ],
   "source": [
    "import pandas as pd\n",
    "from glob import glob\n",
    "import numpy as np\n",
    "from tools.procOps import *\n",
    "from tools.fileOps import *\n",
    "import itertools\n",
    "from scipy.special import beta\n",
    "sun_df = pd.read_csv('copy_number/hg38_features.txt', sep='\\t')\n",
    "sun_df.columns = ['loc', 'NAB', 'NC', 'ND', 'NN']\n",
    "sun_df = (sun_df.set_index('loc') * 2).reset_index()\n",
    "sun_df.head()"
   ]
  },
  {
   "cell_type": "code",
   "execution_count": 3,
   "metadata": {
    "collapsed": true
   },
   "outputs": [],
   "source": [
    "from tools.bio import *\n",
    "fa = '/hive/users/ifiddes/notch2nl_berkeley_data/imputation_pipeline/copy_number/consensus.fa'\n",
    "_, seq = read_fasta(fa, None).next()"
   ]
  },
  {
   "cell_type": "code",
   "execution_count": 6,
   "metadata": {
    "collapsed": false
   },
   "outputs": [],
   "source": [
    "# load parsed pileups\n",
    "files = glob('/hive/users/ifiddes/simons_normals/96kb_consensus/*.parsed_pileup.txt')\n",
    "dfs = {}\n",
    "for f in files:\n",
    "    n = os.path.basename(f).split('.')[0]\n",
    "    dfs[n] = pd.read_csv(f, sep='\\t', index_col=0)"
   ]
  },
  {
   "cell_type": "code",
   "execution_count": 8,
   "metadata": {
    "collapsed": true
   },
   "outputs": [],
   "source": [
    "# load C/D copy number estimates\n",
    "\n",
    "files = glob('/hive/users/ifiddes/simons_normals/*.filtered.txt')\n",
    "\n",
    "from collections import Counter\n",
    "def convert(x):\n",
    "    x = x.split(':')\n",
    "    n, v = x\n",
    "    v = int(v)\n",
    "    return n, v\n",
    "\n",
    "copy_number = {}\n",
    "for x in files:\n",
    "    n = os.path.basename(x).split('.')[0]\n",
    "    l = open(x).next().rstrip().split()\n",
    "    c = []\n",
    "    for x in l[2:4]:\n",
    "        _, v = convert(x)\n",
    "        c.append(v)\n",
    "    copy_number[n] = c"
   ]
  },
  {
   "cell_type": "code",
   "execution_count": 13,
   "metadata": {
    "collapsed": true
   },
   "outputs": [],
   "source": [
    "# filter dataframes for C = 2 and D = 2\n",
    "# also filter for informative positions\n",
    "filtered_dfs = {}\n",
    "for n, df in dfs.iteritems():\n",
    "    c = copy_number[n]\n",
    "    if sum(c) != 4:\n",
    "        continue\n",
    "    df_m = df.merge(sun_df, on='loc')\n",
    "    df_m = df_m[df_m['loc'].isin(sun_df['loc'])]\n",
    "    filtered_dfs[n] = df_m"
   ]
  },
  {
   "cell_type": "code",
   "execution_count": 42,
   "metadata": {
    "collapsed": true
   },
   "outputs": [],
   "source": [
    "# calculate the average frequency of alts in the population for C/D SUNs\n",
    "# if this frequency is below 0.1 or above 0.3 discard the feature\n",
    "seen_alts = defaultdict(list)\n",
    "for df in filtered_dfs.itervalues():\n",
    "    for _, s in df.iterrows():\n",
    "        if s.NAB > 0:\n",
    "            continue\n",
    "        e = 1.0 * (s.NAB + s.NC + s.ND + s.NN) / 10\n",
    "        seen_alts[s['loc']].append([e, s.ratio])"
   ]
  },
  {
   "cell_type": "code",
   "execution_count": 59,
   "metadata": {
    "collapsed": false
   },
   "outputs": [],
   "source": [
    "means_variances = {}\n",
    "N = len(filtered_dfs)  # number of genomes\n",
    "bad_positions = set()\n",
    "for loc, ratios in seen_alts.iteritems():\n",
    "    e, ratios = zip(*ratios)\n",
    "    e = e[0]  # always the same number\n",
    "    mean = np.mean(ratios)\n",
    "    if mean < e - 0.1 or mean > e + 0.1:\n",
    "        bad_positions.add(loc)\n",
    "    else:\n",
    "        variance = 1.0 * 1 / (N - 1) * sum((x - mean) ** 2 for x in ratios)\n",
    "        means_variances[loc] = [e, mean, variance]"
   ]
  },
  {
   "cell_type": "code",
   "execution_count": 60,
   "metadata": {
    "collapsed": false
   },
   "outputs": [
    {
     "name": "stdout",
     "output_type": "stream",
     "text": [
      "97\n"
     ]
    }
   ],
   "source": [
    "# number discarded due to wonky ratio (not fixed):\n",
    "print len(bad_positions)"
   ]
  },
  {
   "cell_type": "code",
   "execution_count": 61,
   "metadata": {
    "collapsed": true
   },
   "outputs": [],
   "source": [
    "# discard features whose variance is too high\n",
    "filtered_means_variances = {}\n",
    "for loc, (e, mean, variance) in means_variances.iteritems():\n",
    "    if variance >= mean * (1 - mean):\n",
    "        bad_positions.add(loc)\n",
    "    else:\n",
    "        filtered_means_variances[loc] = [e, mean, variance]"
   ]
  },
  {
   "cell_type": "code",
   "execution_count": 62,
   "metadata": {
    "collapsed": false
   },
   "outputs": [
    {
     "name": "stdout",
     "output_type": "stream",
     "text": [
      "97\n"
     ]
    }
   ],
   "source": [
    "# number discarded\n",
    "print len(bad_positions)"
   ]
  },
  {
   "cell_type": "code",
   "execution_count": 141,
   "metadata": {
    "collapsed": true
   },
   "outputs": [],
   "source": [
    "# calculate a/b\n",
    "final_values = []\n",
    "for loc, (e, mean, variance) in filtered_means_variances.iteritems():\n",
    "    z = (mean * (1 - mean)) / variance - 1\n",
    "    a = mean * z\n",
    "    b = (1 - mean) * z\n",
    "    final_values.append([loc, a, b, mean, variance, e])\n",
    "final_values = pd.DataFrame(final_values, columns=['loc', 'a', 'b', 'mean', 'variance', 'expected'])\n",
    "final_values = final_values.sort_values('loc')"
   ]
  },
  {
   "cell_type": "code",
   "execution_count": 87,
   "metadata": {
    "collapsed": false
   },
   "outputs": [],
   "source": [
    "def construct_C(max_n=12, min_n=8, k=4):\n",
    "    list1=np.arange(0,6)\n",
    "    r = []\n",
    "    for l in itertools.product(list1,repeat=k):\n",
    "        if min_n <= np.sum(l) <= max_n:\n",
    "            r.append(l)\n",
    "    return np.array(r)\n",
    "\n",
    "C = construct_C()"
   ]
  },
  {
   "cell_type": "code",
   "execution_count": 193,
   "metadata": {
    "collapsed": true
   },
   "outputs": [],
   "source": [
    "filtered_features = sun_df[sun_df['loc'].isin(final_values['loc'])].set_index('loc')"
   ]
  },
  {
   "cell_type": "code",
   "execution_count": 194,
   "metadata": {
    "collapsed": true
   },
   "outputs": [],
   "source": [
    "adjusted_features = filtered_features.copy()\n",
    "adjusted_features['NAB'] = [1 if x > 0 else 0 for x in adjusted_features['NAB']]\n",
    "adjusted_features['NC'] = [1 if x > 0 else 0 for x in adjusted_features['NC']]\n",
    "adjusted_features['ND'] = [1 if x > 0 else 0 for x in adjusted_features['ND']]\n",
    "adjusted_features['NN'] = [1 if x > 0 else 0 for x in adjusted_features['NN']]"
   ]
  },
  {
   "cell_type": "code",
   "execution_count": 223,
   "metadata": {
    "collapsed": false
   },
   "outputs": [],
   "source": [
    "# test\n",
    "data = dfs.values()[0]\n",
    "data = data[data['loc'].isin(adjusted_features.index)]\n",
    "feature_subset = adjusted_features[adjusted_features.index.isin(data['loc'])]\n",
    "\n",
    "Ct = C.T\n",
    "num = np.dot(feature_subset, Ct)\n",
    "denom = np.sum(Ct, axis=0)\n",
    "S = (1.0 + num) / (2.0 + denom)\n",
    "S_log = np.log(S)\n",
    "S_inv = np.log(1 - S)\n",
    "M = data.ref_count\n",
    "N = data.alt_count\n",
    "R = (np.dot(M + 10, S_log) + np.dot(N + 10, S_inv))"
   ]
  },
  {
   "cell_type": "code",
   "execution_count": 224,
   "metadata": {
    "collapsed": false
   },
   "outputs": [],
   "source": [
    "a = final_values.a.tolist()\n",
    "b = final_values.b.tolist()\n",
    "\n",
    "R_prime = np.log(beta(N + a, M + b)) - np.log(beta(a, b))"
   ]
  },
  {
   "cell_type": "code",
   "execution_count": 229,
   "metadata": {
    "collapsed": true
   },
   "outputs": [],
   "source": [
    "R_map = {i: x for i, x in enumerate(R)}\n",
    "best_index, score = sorted(R_map.iteritems(), key=lambda x: x[1])[-1]\n",
    "best_haps = C[best_index]"
   ]
  },
  {
   "cell_type": "code",
   "execution_count": 231,
   "metadata": {
    "collapsed": true
   },
   "outputs": [],
   "source": [
    "R_prime_map = {i: x for i, x in enumerate(R_prime)}\n",
    "best_index, score = sorted(R_prime_map.iteritems(), key=lambda x: x[1])[-1]\n",
    "best_haps = C[best_index]"
   ]
  },
  {
   "cell_type": "code",
   "execution_count": null,
   "metadata": {
    "collapsed": true
   },
   "outputs": [],
   "source": []
  }
 ],
 "metadata": {
  "kernelspec": {
   "display_name": "Python [Root]",
   "language": "python",
   "name": "Python [Root]"
  },
  "language_info": {
   "codemirror_mode": {
    "name": "ipython",
    "version": 2
   },
   "file_extension": ".py",
   "mimetype": "text/x-python",
   "name": "python",
   "nbconvert_exporter": "python",
   "pygments_lexer": "ipython2",
   "version": "2.7.11"
  }
 },
 "nbformat": 4,
 "nbformat_minor": 0
}
