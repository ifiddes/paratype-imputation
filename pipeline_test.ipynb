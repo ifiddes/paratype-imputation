{
 "cells": [
  {
   "cell_type": "code",
   "execution_count": 1,
   "metadata": {
    "collapsed": true
   },
   "outputs": [],
   "source": [
    "from __future__ import division\n",
    "import numpy as np\n",
    "import argparse\n",
    "import vcf\n",
    "import itertools\n",
    "import sys\n",
    "import multiprocessing\n",
    "import pandas as pd\n",
    "from collections import *\n",
    "from tools.bio import *\n",
    "from cat.plots import *\n",
    "from phase_lib import *\n",
    "\n",
    "\n",
    "def construct_C(inferred_copy_numbers, filtered_features):\n",
    "    \"\"\"Construct C based on previous information of counts. Only allow possibilties to be enumerated that match this information\"\"\"\n",
    "\n",
    "    # create map of paralog to inferred total\n",
    "    inferred_copy_numbers = {x: int(y) for x, y in zip(['AB', 'C', 'D', 'N'], inferred_copy_numbers)}\n",
    "    total_copies = sum(inferred_copy_numbers.values())\n",
    "    features_by_paralog = [x.split('_')[1][0] for x in filtered_features.columns]\n",
    "\n",
    "    # for simplicity, replace all A or B with AB\n",
    "    features_by_paralog = [x if x not in ['A', 'B'] else 'AB' for x in features_by_paralog]\n",
    "\n",
    "    # split them into groups, maintaining original positions\n",
    "    feature_groups = defaultdict(list)\n",
    "    for i, f in enumerate(features_by_paralog):\n",
    "        feature_groups[f].append(i)\n",
    "\n",
    "    # construct all possibilities for each feature group\n",
    "    possibilities = {}\n",
    "    for f, positions in feature_groups.iteritems():\n",
    "        inferred_copy = inferred_copy_numbers[f]\n",
    "        r = np.array([np.array(x) for x in itertools.product(range(inferred_copy + 1), repeat=len(positions))\n",
    "                      if sum(x) == inferred_copy])\n",
    "        possibilities[f] = r\n",
    "\n",
    "\n",
    "    def array_product(a1, a2):\n",
    "        m1,n1 = a1.shape\n",
    "        m2,n2 = a2.shape\n",
    "        out = np.zeros((m1, m2, n1 + n2), dtype=int)\n",
    "        out[:,:,:n1] = a1[:,None,:]\n",
    "        out[:,:,n1:] = a2\n",
    "        out.shape = (m1 * m2, -1)\n",
    "        return out\n",
    "\n",
    "    abc = array_product(possibilities['AB'], possibilities['C'])\n",
    "    abcd = array_product(abc, possibilities['D'])\n",
    "    abcdn = array_product(abcd, possibilities['N'])\n",
    "\n",
    "    # finally, rearrange the columns to reflect the original positioning\n",
    "    order = feature_groups['AB'] + feature_groups['C'] + feature_groups['D'] + feature_groups['N']\n",
    "    i = np.argsort(order)\n",
    "    ordered = abcdn[:,i]\n",
    "    return ordered\n",
    "\n"
   ]
  },
  {
   "cell_type": "code",
   "execution_count": 2,
   "metadata": {
    "collapsed": true
   },
   "outputs": [],
   "source": [
    "args = argparse.Namespace()\n",
    "args.features = 'H9_NA12878.features.tsv'\n",
    "args.inferred_copy_numbers = [4, 2, 2, 2]\n",
    "args.pileup = 'H9.pileup.txt'\n",
    "args.bam = None\n",
    "args.consensus_fasta = '/hive/users/cbosworth/refs/notch/notch2_aligned_consensus.fasta'\n",
    "args.read_pseudo = 10"
   ]
  },
  {
   "cell_type": "code",
   "execution_count": 3,
   "metadata": {
    "collapsed": false
   },
   "outputs": [],
   "source": [
    "\n",
    "\n",
    "data = pd.read_csv(args.pileup, sep='\\t', index_col=0)\n",
    "import cPickle as pickle\n",
    "C = pickle.load(open('precomputed_C_4_2_2_2.pickle'))\n",
    "_, seq = read_fasta(args.consensus_fasta, None).next()\n"
   ]
  },
  {
   "cell_type": "code",
   "execution_count": 4,
   "metadata": {
    "collapsed": true
   },
   "outputs": [],
   "source": [
    "\n",
    "features = pd.read_csv(args.features, sep='\\t', index_col=0)\n",
    "# find shared positions in case data is missing some\n",
    "positions = set(features.index) & set(data['loc'])\n",
    "filtered_data = data[data['loc'].isin(positions)]\n",
    "# filter features too\n",
    "filtered_features = features[features.index.isin(positions)]\n",
    "\n"
   ]
  },
  {
   "cell_type": "code",
   "execution_count": 5,
   "metadata": {
    "collapsed": true
   },
   "outputs": [],
   "source": [
    "def calculate_feature_groups(inferred_copy_numbers, filtered_features):\n",
    "    # create map of paralog to inferred total\n",
    "    inferred_copy_numbers = {x: int(y) for x, y in zip(['AB', 'C', 'D', 'N'], inferred_copy_numbers)}\n",
    "    total_copies = sum(inferred_copy_numbers.values())\n",
    "    features_by_paralog = [x.split('_')[1][0] for x in filtered_features.columns]\n",
    "\n",
    "    # for simplicity, replace all A or B with AB\n",
    "    features_by_paralog = [x if x not in ['A', 'B'] else 'AB' for x in features_by_paralog]\n",
    "\n",
    "    # split them into groups, maintaining original positions\n",
    "    feature_groups = defaultdict(list)\n",
    "    for i, f in enumerate(features_by_paralog):\n",
    "        feature_groups[f].append(i)\n",
    "    return feature_groups"
   ]
  },
  {
   "cell_type": "code",
   "execution_count": 23,
   "metadata": {
    "collapsed": true
   },
   "outputs": [],
   "source": [
    "feature_groups = calculate_feature_groups(args.inferred_copy_numbers, filtered_features)\n",
    "# construct pseudocounts bsaed on the features\n",
    "ab=np.sum(filtered_features[feature_groups['AB']], axis=1)\n",
    "c=np.sum(filtered_features[feature_groups['C']], axis=1)\n",
    "d=np.sum(filtered_features[feature_groups['D']], axis=1)\n",
    "n=np.sum(filtered_features[feature_groups['N']], axis=1)\n",
    "\n",
    "not_ambig = ((ab>0) & (c==0) & (d==0) & (n==0)) | \\\n",
    "            ((ab==0) & (c>0) & (d==0) & (n==0)) | \\\n",
    "            ((ab==0) & (c==0) & (d>0) & (n==0)) | \\\n",
    "            ((ab==0) & (c==0) & (d==0) & (n>0))\n",
    "\n",
    "paratype_pseudo = np.asarray(1 - 0.99 * not_ambig)"
   ]
  },
  {
   "cell_type": "code",
   "execution_count": 21,
   "metadata": {
    "collapsed": false
   },
   "outputs": [],
   "source": [
    "C = construct_C(args.inferred_copy_numbers, feature_subset)\n",
    "Ct = C.T\n",
    "\n",
    "num = np.dot(filtered_features, Ct)\n",
    "denom = np.sum(Ct, axis=0)"
   ]
  },
  {
   "cell_type": "code",
   "execution_count": 22,
   "metadata": {
    "collapsed": false
   },
   "outputs": [],
   "source": [
    "\n",
    "S = (args.paratype_pseudo + num) / (2.0 * args.paratype_pseudo + denom)\n",
    "\n",
    "S_log = np.log(S)\n",
    "S_inv = np.log(1 - S)\n",
    "\n",
    "# M is the number of alt reads, N is the number of ref reads\n",
    "M = 1.0 * filtered_data.alt_count\n",
    "N = 1.0 * filtered_data.ref_count\n",
    "R = np.dot(M + args.read_pseudo, S_log) + np.dot(N + args.read_pseudo, S_inv)\n",
    "\n",
    "R_map = {i: x for i, x in enumerate(R)}\n",
    "best_index, score = sorted(R_map.iteritems(), key=lambda x: x[1])[-1]\n",
    "best_haps = C[best_index]"
   ]
  },
  {
   "cell_type": "code",
   "execution_count": 23,
   "metadata": {
    "collapsed": true
   },
   "outputs": [],
   "source": [
    "ordered = sorted(R_map.iteritems(), key=lambda x: x[1])[-10:][::-1]"
   ]
  },
  {
   "cell_type": "code",
   "execution_count": 26,
   "metadata": {
    "collapsed": true
   },
   "outputs": [],
   "source": [
    "def calculate_deviance_variance(S, index, filtered_data):\n",
    "    best_s = S.T[index]\n",
    "    expected_alt = np.multiply(best_s, filtered_data['coverage'])\n",
    "    expected_ref = filtered_data['coverage'] - expected_alt\n",
    "    actual_alt = filtered_data['alt_count']\n",
    "    actual_ref = filtered_data['ref_count']\n",
    "    n = filtered_data['coverage']\n",
    "    deviance = (expected_alt - actual_alt) / (np.sqrt(n * best_s * (1 - best_s)))\n",
    "    variance = sum(np.multiply(deviance, deviance) ) / len(filtered_data['coverage'])\n",
    "    return deviance, variance"
   ]
  },
  {
   "cell_type": "code",
   "execution_count": 28,
   "metadata": {
    "collapsed": false
   },
   "outputs": [],
   "source": [
    "with open('test.pdf', 'w') as outf, PdfPages(outf) as pdf:\n",
    "    import matplotlib.pyplot as plt\n",
    "    for i in xrange(1, 4, 1):\n",
    "        index = ordered[i][0]\n",
    "        deviance, variance = calculate_deviance_variance(S, index, filtered_data)\n",
    "        fig, ax = plt.subplots()\n",
    "        ax.plot(deviance.index, deviance)\n",
    "        fig.suptitle('Deviance by position for {} hit {} variance = {}'.format('test', i, variance))\n",
    "        ax.set_ylim(-70, 10)\n",
    "        multipage_close(pdf)\n",
    "        fig, ax = plt.subplots()\n",
    "        g = sns.distplot(deviance, ax=ax)\n",
    "        fig.suptitle('Deviance distribution for {} hit {} variance = {}'.format('test', i, variance))\n",
    "        multipage_close(pdf)"
   ]
  },
  {
   "cell_type": "code",
   "execution_count": 40,
   "metadata": {
    "collapsed": false
   },
   "outputs": [],
   "source": [
    "best_s = S.T[best_index]\n",
    "expected_alt = np.multiply(best_s, filtered_data['coverage'])\n",
    "expected_ref = filtered_data['coverage'] - expected_alt\n",
    "actual_alt = filtered_data['alt_count']\n",
    "actual_ref = filtered_data['ref_count']\n",
    "#p = expected_alt/(expected_ref + expected_alt)\n",
    "n = filtered_data['coverage']\n",
    "deviance = (expected_alt - actual_alt)/ (np.sqrt(n*best_s*(1-best_s)))\n",
    "variance = sum(np.multiply(deviance, deviance) )/len(filtered_data['coverage'])"
   ]
  },
  {
   "cell_type": "code",
   "execution_count": 73,
   "metadata": {
    "collapsed": false
   },
   "outputs": [
    {
     "data": {
      "text/plain": [
       "[<matplotlib.lines.Line2D at 0x7f28d2143dd0>]"
      ]
     },
     "execution_count": 73,
     "metadata": {},
     "output_type": "execute_result"
    },
    {
     "data": {
      "image/png": "[encoded data removed]",
      "text/plain": [
       "<matplotlib.figure.Figure at 0x7f295aa159d0>"
      ]
     },
     "metadata": {},
     "output_type": "display_data"
    }
   ],
   "source": [
    "%matplotlib inline\n",
    "import matplotlib.pyplot as plt\n",
    "plt.plot(deviance.index, deviance)"
   ]
  },
  {
   "cell_type": "code",
   "execution_count": 46,
   "metadata": {
    "collapsed": false
   },
   "outputs": [
    {
     "data": {
      "text/plain": [
       "<matplotlib.axes._subplots.AxesSubplot at 0x7f295abe0090>"
      ]
     },
     "execution_count": 46,
     "metadata": {},
     "output_type": "execute_result"
    },
    {
     "data": {
      "image/png": "[encoded data removed]",
      "text/plain": [
       "<matplotlib.figure.Figure at 0x7f2981bf1450>"
      ]
     },
     "metadata": {},
     "output_type": "display_data"
    }
   ],
   "source": [
    "sns.distplot(deviance)"
   ]
  },
  {
   "cell_type": "code",
   "execution_count": 44,
   "metadata": {
    "collapsed": false
   },
   "outputs": [
    {
     "name": "stdout",
     "output_type": "stream",
     "text": [
      "CHM1_A_c5_realigned_100kb CHM1_B_c4_realigned_100kb CHM1_N_c3_realigned_100kb NA12878_A1_c7_realigned_100kb NA12878_B1_c3_realigned_100kb NA12878_B2_c5_realigned_100kb NA12878_D2_c6_realigned_100kb NA24385_B1_c4_realigned_100kb NA24385_B2_c5_realigned_100kb NA24385_A1_c0_realigned_100kb NA24385_A2_c6_realigned_100kb NA24385_N1_c3_realigned_100kb NA24385_C1_c2_realigned_100kb H9_A1_c8_realigned_100kb H9_B1_c1_realigned_100kb H9_B2_c3_realigned_100kb H9_B3_c7_realigned_100kb H9_C1_c4_realigned_100kb\n",
      "1: [array([1, 0, 1, 0, 0, 0, 1, 0, 0, 0, 0, 1, 1, 1, 1, 1, 0, 1]), 12415, -149964.17389134428]\n",
      "2: [array([0, 1, 1, 0, 0, 0, 1, 0, 0, 1, 0, 1, 1, 1, 1, 0, 0, 1]), 9400, -150033.3829010363]\n",
      "3: [array([1, 1, 1, 0, 0, 0, 1, 0, 0, 0, 0, 1, 1, 1, 1, 0, 0, 1]), 14935, -150081.87344283704]\n",
      "4: [array([1, 0, 1, 0, 0, 0, 1, 0, 0, 0, 1, 1, 1, 1, 1, 0, 0, 1]), 12541, -150110.59899929177]\n",
      "5: [array([0, 1, 1, 0, 0, 0, 1, 0, 0, 0, 0, 1, 1, 1, 1, 1, 0, 1]), 9139, -150139.94380525083]\n",
      "6: [array([0, 1, 1, 0, 0, 0, 1, 0, 0, 0, 1, 1, 1, 1, 1, 0, 0, 1]), 9265, -150163.97356330988]\n",
      "7: [array([1, 0, 1, 0, 1, 0, 1, 0, 0, 0, 0, 1, 1, 1, 1, 0, 0, 1]), 13846, -150248.42388044484]\n",
      "8: [array([0, 0, 1, 0, 0, 0, 1, 0, 0, 1, 1, 1, 1, 1, 1, 0, 0, 1]), 886, -150259.06167203505]\n",
      "9: [array([0, 1, 1, 0, 0, 0, 1, 0, 0, 0, 0, 1, 1, 2, 1, 0, 0, 1]), 9175, -150288.48257139069]\n",
      "10: [array([0, 1, 1, 0, 0, 0, 1, 0, 0, 1, 0, 1, 1, 0, 1, 1, 0, 1]), 9364, -150298.69619495946]\n"
     ]
    }
   ],
   "source": [
    "ordered = sorted(R_map.iteritems(), key=lambda x: x[1])[-10:][::-1]\n",
    "print ' '.join(features.columns)\n",
    "for i, x in enumerate([[C[pos], pos, val] for pos, val in ordered], 1):\n",
    "    print '{}: {}'.format(i, x)"
   ]
  },
  {
   "cell_type": "code",
   "execution_count": 45,
   "metadata": {
    "collapsed": false
   },
   "outputs": [
    {
     "name": "stdout",
     "output_type": "stream",
     "text": [
      "log odds: -149964.173891\n",
      "results: \n",
      "CHM1_A_c5_realigned_100kb: 1\n",
      "CHM1_N_c3_realigned_100kb: 1\n",
      "NA12878_D2_c6_realigned_100kb: 1\n",
      "NA24385_N1_c3_realigned_100kb: 1\n",
      "NA24385_C1_c2_realigned_100kb: 1\n",
      "H9_A1_c8_realigned_100kb: 1\n",
      "H9_B1_c1_realigned_100kb: 1\n",
      "H9_B2_c3_realigned_100kb: 1\n",
      "H9_C1_c4_realigned_100kb: 1\n"
     ]
    }
   ],
   "source": [
    "print 'log odds: {}'.format(score)\n",
    "print 'results: '\n",
    "for x, y in zip(filtered_features.columns, best_haps):\n",
    "    if y > 0:\n",
    "        print '{}: {}'.format(x, y)"
   ]
  },
  {
   "cell_type": "code",
   "execution_count": 29,
   "metadata": {
    "collapsed": false
   },
   "outputs": [
    {
     "name": "stdout",
     "output_type": "stream",
     "text": [
      "{\n",
      "  \"stdin_port\": 43186, \n",
      "  \"ip\": \"127.0.0.1\", \n",
      "  \"control_port\": 55191, \n",
      "  \"hb_port\": 50327, \n",
      "  \"signature_scheme\": \"hmac-sha256\", \n",
      "  \"key\": \"7cddbd48-dfca-44e4-b066-533e360b4dfb\", \n",
      "  \"kernel_name\": \"\", \n",
      "  \"shell_port\": 60760, \n",
      "  \"transport\": \"tcp\", \n",
      "  \"iopub_port\": 36339\n",
      "}\n",
      "\n",
      "Paste the above JSON into a file, and connect with:\n",
      "    $> ipython <app> --existing <file>\n",
      "or, if you are local, you can connect with just:\n",
      "    $> ipython <app> --existing /cluster/home/ifiddes/.local/share/jupyter/runtime/kernel-a9fbe641-290b-4421-a731-5e47668b937e.json \n",
      "or even just:\n",
      "    $> ipython <app> --existing \n",
      "if this is the most recent IPython session you have started.\n"
     ]
    }
   ],
   "source": [
    "%connect_info"
   ]
  },
  {
   "cell_type": "code",
   "execution_count": 136,
   "metadata": {
    "collapsed": true
   },
   "outputs": [],
   "source": [
    "# discard largest deviance\n",
    "\n",
    "\n",
    "def calculate_variance(deviance, filtered_data):\n",
    "    return  sum(np.multiply(deviance, deviance)) / len(filtered_data['coverage'])\n",
    "\n",
    "\n",
    "def reject_deviance_outliers(deviance, percent=0.1):\n",
    "    \"\"\"Rejects percent of lowest deviance values, returns the worst\"\"\"\n",
    "    s = len(deviance)\n",
    "    d = int(round(percent * s))\n",
    "    indices = deviance.argsort()[:d]\n",
    "    return indices\n",
    "\n",
    "\n",
    "def calculate_mask(S, filtered_data):\n",
    "    \"\"\"Constructs the masking matrix based on deviance\"\"\"\n",
    "    masked = []\n",
    "    for s in S.T:\n",
    "        deviance = calculate_deviance(s, filtered_data)\n",
    "        to_mask = set(reject_deviance_outliers(deviance))\n",
    "        mask = [0 if x in to_mask else 1 for x in range(len(s))]\n",
    "        masked.append(mask)\n",
    "    return np.array(mask).T\n",
    "\n",
    "\n",
    "def calculate_values(filtered_features, C, S, S_mask):\n",
    "    \"\"\"Calculate S and the vector R. If mask is not None, will mask S_log and S_inv with it\"\"\"\n",
    "    Ct = C.T\n",
    "    num = np.dot(filtered_features, Ct)\n",
    "    denom = np.sum(Ct, axis=0)\n",
    "\n",
    "    S = (args.paratype_pseudo + num) / (2.0 * args.paratype_pseudo + denom)\n",
    "\n",
    "    S_log = np.log(S)\n",
    "    S_inv = np.log(1 - S)\n",
    "    # mask these matrices\n",
    "    S_log = np.multiply(S_log, S_mask)\n",
    "    S_inv = np.multiply(S_log, S_mask)\n",
    "\n",
    "    # M is the number of alt reads, N is the number of ref reads\n",
    "    M = 1.0 * filtered_data.alt_count\n",
    "    N = 1.0 * filtered_data.ref_count\n",
    "    R = np.dot(M + args.read_pseudo, S_log) + np.dot(N + args.read_pseudo, S_inv)\n",
    "    return R\n",
    "\n"
   ]
  },
  {
   "cell_type": "code",
   "execution_count": 137,
   "metadata": {
    "collapsed": true
   },
   "outputs": [],
   "source": [
    "\n",
    "R = calculate_values(filtered_features, C, S, S_mask)\n",
    "\n",
    "R_map = {i: x for i, x in enumerate(R)}\n",
    "best_index, score = sorted(R_map.iteritems(), key=lambda x: x[1])[-1]\n",
    "best_haps = C[best_index]\n",
    "ordered = sorted(R_map.iteritems(), key=lambda x: x[1])[-10:][::-1]\n",
    "\n",
    "\n"
   ]
  },
  {
   "cell_type": "code",
   "execution_count": 138,
   "metadata": {
    "collapsed": false
   },
   "outputs": [
    {
     "name": "stdout",
     "output_type": "stream",
     "text": [
      "log odds: -380669.833593\n",
      "\n",
      "results: \n",
      "NA12878_D2_c6: 1\n",
      "NA24385_B1_c4: 1\n",
      "NA24385_N1_c3: 2\n",
      "NA24385_C1_c2: 2\n",
      "H9_B1_c1: 1\n",
      "H9_B2_c3: 1\n",
      "H9_B3_c7: 1\n"
     ]
    }
   ],
   "source": [
    "\n",
    "\n",
    "print 'log odds: {}'.format(score)\n",
    "print ''\n",
    "print 'results: '\n",
    "for x, y in zip(filtered_features.columns, best_haps):\n",
    "    if y > 0:\n",
    "        print '{}: {}'.format(x, y)"
   ]
  },
  {
   "cell_type": "code",
   "execution_count": 154,
   "metadata": {
    "collapsed": true
   },
   "outputs": [],
   "source": [
    "S_masked = np.multiply(S, S_mask)"
   ]
  },
  {
   "cell_type": "code",
   "execution_count": 163,
   "metadata": {
    "collapsed": false
   },
   "outputs": [
    {
     "data": {
      "text/plain": [
       "<matplotlib.axes._subplots.AxesSubplot at 0x7f36ceffa150>"
      ]
     },
     "execution_count": 163,
     "metadata": {},
     "output_type": "execute_result"
    },
    {
     "data": {
      "image/png": "[encoded data removed]",
      "text/plain": [
       "<matplotlib.figure.Figure at 0x7f36ccce6650>"
      ]
     },
     "metadata": {},
     "output_type": "display_data"
    }
   ],
   "source": [
    "%matplotlib inline\n",
    "deviance = calculate_deviance(S_masked.T[0], filtered_data)\n",
    "deviance = deviance.replace([np.inf, -np.inf], np.nan)\n",
    "sns.distplot(deviance.dropna())"
   ]
  },
  {
   "cell_type": "code",
   "execution_count": 182,
   "metadata": {
    "collapsed": false
   },
   "outputs": [
    {
     "data": {
      "text/plain": [
       "<matplotlib.axes._subplots.AxesSubplot at 0x7f3729e1a0d0>"
      ]
     },
     "execution_count": 182,
     "metadata": {},
     "output_type": "execute_result"
    },
    {
     "data": {
      "image/png": "[encoded data removed]",
      "text/plain": [
       "<matplotlib.figure.Figure at 0x7f36ccd35ad0>"
      ]
     },
     "metadata": {},
     "output_type": "display_data"
    }
   ],
   "source": [
    "d = randomize_histogram(deviance)\n",
    "sns.distplot(d.dropna())"
   ]
  },
  {
   "cell_type": "code",
   "execution_count": 7,
   "metadata": {
    "collapsed": false
   },
   "outputs": [
    {
     "name": "stdout",
     "output_type": "stream",
     "text": [
      "{\n",
      "  \"stdin_port\": 57559, \n",
      "  \"ip\": \"127.0.0.1\", \n",
      "  \"control_port\": 59295, \n",
      "  \"hb_port\": 54847, \n",
      "  \"signature_scheme\": \"hmac-sha256\", \n",
      "  \"key\": \"05ce056d-9952-4d49-bc60-a6fd6a1b0c3b\", \n",
      "  \"kernel_name\": \"\", \n",
      "  \"shell_port\": 42981, \n",
      "  \"transport\": \"tcp\", \n",
      "  \"iopub_port\": 34857\n",
      "}\n",
      "\n",
      "Paste the above JSON into a file, and connect with:\n",
      "    $> ipython <app> --existing <file>\n",
      "or, if you are local, you can connect with just:\n",
      "    $> ipython <app> --existing /cluster/home/ifiddes/.local/share/jupyter/runtime/kernel-70c0b7a6-1635-4cf7-b985-bd8b78162de6.json \n",
      "or even just:\n",
      "    $> ipython <app> --existing \n",
      "if this is the most recent IPython session you have started.\n"
     ]
    }
   ],
   "source": [
    "%connect_info"
   ]
  },
  {
   "cell_type": "code",
   "execution_count": 54,
   "metadata": {
    "collapsed": true
   },
   "outputs": [],
   "source": [
    "args = argparse.Namespace()\n",
    "features = '/hive/users/ifiddes/notch2nl_berkeley_data/imputation_pipeline/very_reduced.features.tsv'\n",
    "#args.features=\"onlyStop.features.tsv\"\n",
    "#args.features=\"/hive/users/ifiddes/notch2nl_berkeley_data/imputation_pipeline/H9_NA12878.features.tsv\"\n",
    "args.features=\"/hive/users/ifiddes/notch2nl_berkeley_data/imputation_pipeline/very_reduced.features.tsv\"\n",
    "args.ratio_plot=\"tmp.pdf\"\n",
    "args.inferred_copy_numbers=[4,2,1,2]\n",
    "#args.bam=\"/hive/users/cbosworth/SimonsNormals/secondTry/LP6005442-DNA_B08.sorted.2.bam\"\n",
    "#args.bam=\"H9/E2del68_E2del19N_combined.100kb.sorted.bam\"\n",
    "args.bam=None\n",
    "args.paratype_pseudo=0.01\n",
    "args.read_pseudo=0\n",
    "args.consensus_fasta='/hive/users/cbosworth/refs/notch/notch2_aligned_consensus.fasta'\n",
    "args.pileup_converter='/cluster/home/ifiddes/pileup2base/pileup2base.pl'\n",
    "args.save_pileup=None\n",
    "#args.pileup=None  \n",
    "args.pileup='/hive/users/ifiddes/notch2nl_berkeley_data/imputation_pipeline/H9.pileup.txt'\n",
    "data = pd.read_csv(args.pileup, sep='\\t', index_col=0)\n",
    "features = pd.read_csv(args.features, sep='\\t', index_col=0)"
   ]
  },
  {
   "cell_type": "code",
   "execution_count": 56,
   "metadata": {
    "collapsed": true
   },
   "outputs": [],
   "source": [
    "positions = set(features.index) & set(data['loc'])\n",
    "filtered_data = data[data['loc'].isin(positions)]\n",
    "# filter features too\n",
    "filtered_features = features[features.index.isin(positions)]"
   ]
  },
  {
   "cell_type": "code",
   "execution_count": 58,
   "metadata": {
    "collapsed": true
   },
   "outputs": [],
   "source": [
    "feature_groups = calculate_feature_groups(args.inferred_copy_numbers, filtered_features)\n",
    "# construct pseudocounts bsaed on the features\n",
    "ab=np.sum(filtered_features[feature_groups['AB']], axis=1)\n",
    "c=np.sum(filtered_features[feature_groups['C']], axis=1)\n",
    "d=np.sum(filtered_features[feature_groups['D']], axis=1)\n",
    "n=np.sum(filtered_features[feature_groups['N']], axis=1)\n",
    "\n",
    "not_ambig = ((ab>0) & (c==0) & (d==0) & (n==0)) | \\\n",
    "            ((ab==0) & (c>0) & (d==0) & (n==0)) | \\\n",
    "            ((ab==0) & (c==0) & (d>0) & (n==0)) | \\\n",
    "            ((ab==0) & (c==0) & (d==0) & (n>0))\n",
    "\n",
    "paratype_pseudo = np.array([0.01 if x else 1 for x in not_ambig])"
   ]
  },
  {
   "cell_type": "code",
   "execution_count": 60,
   "metadata": {
    "collapsed": true
   },
   "outputs": [],
   "source": [
    "C = pickle.load(open('very_reduced.features.precomputed_C_4_2_1_2.pickle'))"
   ]
  },
  {
   "cell_type": "code",
   "execution_count": 72,
   "metadata": {
    "collapsed": false
   },
   "outputs": [],
   "source": [
    "def calculate_deviance(s, filtered_data):\n",
    "    expected_alt = np.multiply(s, filtered_data['coverage'])\n",
    "    expected_ref = filtered_data['coverage'] - expected_alt\n",
    "    actual_alt = filtered_data['alt_count']\n",
    "    actual_ref = filtered_data['ref_count']\n",
    "    n = filtered_data['coverage']\n",
    "    deviance = (expected_alt - actual_alt) / (np.sqrt(n * s * (1 - s)))\n",
    "    return deviance\n",
    "\n",
    "\n",
    "def filter_deviance(deviance):\n",
    "    \"\"\"Remove NaN from deviance. Used for plotting\"\"\"\n",
    "    return deviance.replace([np.inf, -np.inf], np.nan).dropna()\n",
    "\n",
    "\n",
    "def randomize_histogram(deviance):\n",
    "    \"\"\"Multiply deviance vector by coin toss vector\"\"\"\n",
    "    v = [random.choice([-1, 1]) for _ in range(len(deviance))]\n",
    "    return np.multiply(deviance, v)\n",
    "\n",
    "\n",
    "def calculate_variance(deviance, filtered_data):\n",
    "    return sum(np.multiply(deviance, deviance)) / len(filtered_data['coverage'])\n",
    "\n",
    "\n",
    "def reject_deviance_outliers(deviance, percent=0.01):\n",
    "    \"\"\"Rejects percent of lowest deviance values, returns the worst\"\"\"\n",
    "    s = len(deviance)\n",
    "    d = int(round(percent * s))\n",
    "    indices = deviance.argsort()[:d]\n",
    "    return indices\n",
    "\n",
    "\n",
    "def calculate_mask(S, filtered_data):\n",
    "    \"\"\"Constructs the masking matrix based on deviance\"\"\"\n",
    "    masked = []\n",
    "    for s in S.T:\n",
    "        deviance = calculate_deviance(s, filtered_data)\n",
    "        to_mask = set(reject_deviance_outliers(deviance))\n",
    "        mask = [0 if x in to_mask else 1 for x in range(len(s))]\n",
    "        masked.append(mask)\n",
    "    return np.array(masked).T\n",
    "\n",
    "\n",
    "def calculate_values(filtered_features, C, paratype_pseudo, read_pseudo):\n",
    "    \"\"\"Calculate S and the vector R.\"\"\"\n",
    "    Ct = C.T\n",
    "\n",
    "    num = np.dot(filtered_features, Ct)\n",
    "    denom = np.sum(Ct[:,0])  # first column -- all columns sum to total number of copies\n",
    "    paratype_pseudo += denom\n",
    "    S = (paratype_pseudo + num.T) / ( (2.0 * paratype_pseudo) + denom)\n",
    "    S = S.T\n",
    "\n",
    "    #num = np.dot(filtered_features, Ct)\n",
    "    #denom = np.sum(Ct, axis=0)\n",
    "    #S = (1 + num) / (2.0 * 1 + denom)\n",
    "\n",
    "    S_log = np.log(S)\n",
    "    S_inv = np.log(1 - S)\n",
    "    # calculate the masking matrix based on deviance\n",
    "    #S_mask = calculate_mask(S, filtered_data)\n",
    "    # mask these matrices\n",
    "    #S = np.multiply(S, S_mask)\n",
    "    #S_log = np.multiply(S_log, S_mask)\n",
    "    #S_inv = np.multiply(S_log, S_mask)\n",
    "\n",
    "    # M is the number of alt reads, N is the number of ref reads\n",
    "    M = 1.0 * filtered_data.alt_count\n",
    "    N = 1.0 * filtered_data.ref_count\n",
    "    R = (np.dot(M + read_pseudo, S_log) + np.dot(N + read_pseudo, S_inv))\n",
    "    return S, R\n",
    "\n",
    "S, R = calculate_values(filtered_features, C, paratype_pseudo, args.read_pseudo)"
   ]
  },
  {
   "cell_type": "code",
   "execution_count": 73,
   "metadata": {
    "collapsed": true
   },
   "outputs": [],
   "source": [
    "R_map = {i: x for i, x in enumerate(R)}\n",
    "best_index, score = sorted(R_map.iteritems(), key=lambda x: x[1])[-1]\n",
    "best_haps = C[best_index]\n",
    "ordered = sorted(R_map.iteritems(), key=lambda x: x[1])[-10:][::-1]\n"
   ]
  },
  {
   "cell_type": "code",
   "execution_count": 74,
   "metadata": {
    "collapsed": false
   },
   "outputs": [
    {
     "name": "stdout",
     "output_type": "stream",
     "text": [
      "log odds: -2125703.35075\n",
      "\n",
      "results: \n",
      "CHM1_A_c5: 2\n",
      "CHM1_N_c3: 1\n",
      "NA12878_A1_c7: 2\n",
      "NA12878_D2_c6: 1\n",
      "NA24385_N1_c3: 1\n",
      "NA24385_C1_c2: 2\n"
     ]
    }
   ],
   "source": [
    "print 'log odds: {}'.format(score)\n",
    "print ''\n",
    "print 'results: '\n",
    "for x, y in zip(filtered_features.columns, best_haps):\n",
    "    if y > 0:\n",
    "        print '{}: {}'.format(x, y)"
   ]
  },
  {
   "cell_type": "code",
   "execution_count": null,
   "metadata": {
    "collapsed": true
   },
   "outputs": [],
   "source": []
  }
 ],
 "metadata": {
  "kernelspec": {
   "display_name": "Python [Root]",
   "language": "python",
   "name": "Python [Root]"
  },
  "language_info": {
   "codemirror_mode": {
    "name": "ipython",
    "version": 2
   },
   "file_extension": ".py",
   "mimetype": "text/x-python",
   "name": "python",
   "nbconvert_exporter": "python",
   "pygments_lexer": "ipython2",
   "version": "2.7.11"
  }
 },
 "nbformat": 4,
 "nbformat_minor": 0
}
