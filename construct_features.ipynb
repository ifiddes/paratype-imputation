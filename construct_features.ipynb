{
 "cells": [
  {
   "cell_type": "code",
   "execution_count": 1,
   "metadata": {
    "collapsed": true
   },
   "outputs": [],
   "source": [
    "from __future__ import division\n",
    "import numpy as np\n",
    "import argparse\n",
    "import vcf\n",
    "import itertools\n",
    "import sys\n",
    "import multiprocessing\n",
    "import logging\n",
    "import seaborn as sns\n",
    "import pandas as pd\n",
    "from glob import glob\n",
    "from tools.fileOps import *\n",
    "from tools.procOps import *\n",
    "from tools.bio import *\n",
    "from phase_lib import *"
   ]
  },
  {
   "cell_type": "code",
   "execution_count": 2,
   "metadata": {
    "collapsed": true
   },
   "outputs": [],
   "source": [
    "def construct_feature_vector(df, cutoff, min_cover):\n",
    "    \"\"\"For a haplotype phased genome, return a binary vector of all non-ref sites\"\"\"\n",
    "    filtered = df[(df.coverage >= min_cover) & (df.ratio >= cutoff)]\n",
    "    return set(filtered['loc'])\n",
    "\n",
    "def convert_pileup(pileup_recs, pileup_converter):\n",
    "    with TemporaryFilePath() as tmp, TemporaryFilePath() as tmp2:\n",
    "        with open(tmp, 'w') as outf:\n",
    "            for l in pileup_recs:\n",
    "                outf.write(l + '\\n')\n",
    "        cmd = ['perl', pileup_converter, tmp, 0, tmp2]\n",
    "        r = run_proc(cmd, stderr='/dev/null', stdout='/dev/null')\n",
    "        return load_pileup(tmp2)\n",
    "\n",
    "\n",
    "def load_pileup(pileup_path):\n",
    "    r = [x.split() for x in open(pileup_path)]\n",
    "    return pd.DataFrame(r[1:], columns=r[0])\n",
    "\n",
    "\n",
    "def ref_count(s):\n",
    "    return s[s.ref]\n",
    "\n",
    "\n",
    "bases = {'A', 'T', 'G', 'C'}\n",
    "def alt_count(s):\n",
    "    return sum(s[x] for x in bases if x != s.ref)\n",
    "\n",
    "\n",
    "def make_pileup(bam):\n",
    "    \"\"\"Construct a pileup from a bam\"\"\"\n",
    "    cmd = ['samtools', 'mpileup', bam]\n",
    "    return call_proc_lines(cmd)\n",
    "\n",
    "\n",
    "def parse_converted_pileup(df, seq):\n",
    "    df['loc'] = np.array(map(int, df['loc'])) - 1\n",
    "    df['ref'] = [seq[i] for i in df['loc']]\n",
    "    df = df[df.ref.isin(bases)]\n",
    "    df['A'] = pd.to_numeric(df['A']) + pd.to_numeric(df['a'])\n",
    "    df['C'] = pd.to_numeric(df['C']) + pd.to_numeric(df['c'])\n",
    "    df['G'] = pd.to_numeric(df['G']) + pd.to_numeric(df['g'])\n",
    "    df['T'] = pd.to_numeric(df['T']) + pd.to_numeric(df['t'])\n",
    "    df = df[['loc', 'ref', 'A', 'C', 'G', 'T']]\n",
    "    df['coverage'] = df[['A', 'T', 'G', 'C']].sum(axis=1)\n",
    "    df['ref_count'] = df.apply(ref_count, axis=1)\n",
    "    df['alt_count'] = df.apply(alt_count, axis=1)\n",
    "    df['ratio'] = 1.0 * df.alt_count / (df.alt_count + df.ref_count)\n",
    "    return df\n"
   ]
  },
  {
   "cell_type": "code",
   "execution_count": 3,
   "metadata": {
    "collapsed": true
   },
   "outputs": [],
   "source": [
    "bam = '/hive/users/cbosworth/imputation/H9/A1_c8_realigned_96kb.sorted.bam'\n",
    "consensus_fasta = '/hive/users/ifiddes/notch2nl_berkeley_data/imputation_pipeline/copy_number/consensus.fa'\n",
    "pileup_converter = '/cluster/home/ifiddes/pileup2base/pileup2base.pl'\n",
    "cutoff = 0.95\n",
    "min_cover = 10\n",
    "\n",
    "pileup_recs = make_pileup(bam)"
   ]
  },
  {
   "cell_type": "code",
   "execution_count": 6,
   "metadata": {
    "collapsed": false
   },
   "outputs": [],
   "source": [
    "tmp = 'tmp'\n",
    "tmp2 = 'tmp2'\n",
    "with open(tmp, 'w') as outf:\n",
    "    for l in pileup_recs:\n",
    "        outf.write(l + '\\n')\n",
    "    \n",
    "cmd = ['perl', pileup_converter, tmp, 0, tmp2]\n",
    "r = run_proc(cmd, stderr='/dev/null', stdout='/dev/null')"
   ]
  },
  {
   "cell_type": "code",
   "execution_count": 7,
   "metadata": {
    "collapsed": false
   },
   "outputs": [
    {
     "ename": "TypeError",
     "evalue": "'NoneType' object has no attribute '__getitem__'",
     "output_type": "error",
     "traceback": [
      "\u001b[1;31m---------------------------------------------------------------------------\u001b[0m",
      "\u001b[1;31mTypeError\u001b[0m                                 Traceback (most recent call last)",
      "\u001b[1;32m<ipython-input-7-bb7b1ae9d65a>\u001b[0m in \u001b[0;36m<module>\u001b[1;34m()\u001b[0m\n\u001b[1;32m----> 1\u001b[1;33m \u001b[0mr\u001b[0m\u001b[1;33m[\u001b[0m\u001b[1;36m0\u001b[0m\u001b[1;33m]\u001b[0m\u001b[1;33m\u001b[0m\u001b[0m\n\u001b[0m",
      "\u001b[1;31mTypeError\u001b[0m: 'NoneType' object has no attribute '__getitem__'"
     ]
    }
   ],
   "source": [
    "r[0]"
   ]
  },
  {
   "cell_type": "code",
   "execution_count": null,
   "metadata": {
    "collapsed": true
   },
   "outputs": [],
   "source": []
  }
 ],
 "metadata": {
  "kernelspec": {
   "display_name": "Python [Root]",
   "language": "python",
   "name": "Python [Root]"
  },
  "language_info": {
   "codemirror_mode": {
    "name": "ipython",
    "version": 2
   },
   "file_extension": ".py",
   "mimetype": "text/x-python",
   "name": "python",
   "nbconvert_exporter": "python",
   "pygments_lexer": "ipython2",
   "version": "2.7.11"
  }
 },
 "nbformat": 4,
 "nbformat_minor": 0
}
