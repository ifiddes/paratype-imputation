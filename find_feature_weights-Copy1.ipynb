{
 "cells": [
  {
   "cell_type": "code",
   "execution_count": 1,
   "metadata": {
    "collapsed": true
   },
   "outputs": [],
   "source": [
    "import pandas as pd\n",
    "\n",
    "#sun_df = pd.read_csv('copy_number/hg38_features.txt', sep='\\t')\n",
    "#sun_df.columns = ['loc', 'NAB', 'NC', 'ND', 'NN']\n",
    "#sun_df = (sun_df.set_index('loc') * 2).reset_index()\n",
    "#sun_df.head()"
   ]
  },
  {
   "cell_type": "code",
   "execution_count": 2,
   "metadata": {
    "collapsed": false
   },
   "outputs": [],
   "source": [
    "\n",
    "\n",
    "# try using the SUN VCF\n",
    "import vcf\n",
    "vcf_path = \"/hive/users/ifiddes/amplicon_analysis_with_new_suns/all_samples_reference_free/index/Notch2NL_SUN_UniqueIndels_ConsensusRef.vcf.gz\"\n",
    "\n",
    "vcf_recs = list(vcf.Reader(open(vcf_path)))\n",
    "\n",
    "sun_positions = []\n",
    "for vcf_rec in vcf_recs:\n",
    "    if vcf_rec.is_indel:\n",
    "        continue\n",
    "    sun_positions.append([vcf_rec.POS - 1] + map(int, [x.gt_alleles[0] for x in vcf_rec.samples]))\n",
    "sun_df = pd.DataFrame(sun_positions, columns=['loc', 'NN', 'NA', 'NB', 'NC', 'ND'])\n",
    "sun_df = (sun_df.set_index('loc') * 2).reset_index()"
   ]
  },
  {
   "cell_type": "code",
   "execution_count": 3,
   "metadata": {
    "collapsed": false
   },
   "outputs": [],
   "source": [
    "# load SUN counts\n",
    "sun_counts = [x.split() for x in open('/hive/users/cbosworth/imputation/4222.txt')]\n",
    "m = {}\n",
    "for x in sun_counts:\n",
    "    n = os.path.basename(x[0]).split('.')[0]\n",
    "    ab = int(x[1][-1]) + int(x[2][-1])\n",
    "    c = int(x[3][-1])\n",
    "    d = int(x[4][-1])\n",
    "    m[n] = [4, c, d, 2]"
   ]
  },
  {
   "cell_type": "code",
   "execution_count": 4,
   "metadata": {
    "collapsed": false
   },
   "outputs": [
    {
     "data": {
      "text/html": [
       "<div>\n",
       "<table border=\"1\" class=\"dataframe\">\n",
       "  <thead>\n",
       "    <tr style=\"text-align: right;\">\n",
       "      <th></th>\n",
       "      <th>loc</th>\n",
       "      <th>ref</th>\n",
       "      <th>A</th>\n",
       "      <th>C</th>\n",
       "      <th>G</th>\n",
       "      <th>T</th>\n",
       "      <th>coverage</th>\n",
       "      <th>ref_count</th>\n",
       "      <th>alt_count</th>\n",
       "      <th>ratio</th>\n",
       "    </tr>\n",
       "  </thead>\n",
       "  <tbody>\n",
       "    <tr>\n",
       "      <th>0</th>\n",
       "      <td>0</td>\n",
       "      <td>T</td>\n",
       "      <td>0</td>\n",
       "      <td>0</td>\n",
       "      <td>0</td>\n",
       "      <td>1079</td>\n",
       "      <td>1079</td>\n",
       "      <td>1079</td>\n",
       "      <td>0</td>\n",
       "      <td>0.000000</td>\n",
       "    </tr>\n",
       "    <tr>\n",
       "      <th>1</th>\n",
       "      <td>1</td>\n",
       "      <td>G</td>\n",
       "      <td>5</td>\n",
       "      <td>0</td>\n",
       "      <td>1081</td>\n",
       "      <td>1</td>\n",
       "      <td>1087</td>\n",
       "      <td>1081</td>\n",
       "      <td>6</td>\n",
       "      <td>0.005520</td>\n",
       "    </tr>\n",
       "    <tr>\n",
       "      <th>2</th>\n",
       "      <td>2</td>\n",
       "      <td>G</td>\n",
       "      <td>0</td>\n",
       "      <td>0</td>\n",
       "      <td>1358</td>\n",
       "      <td>1</td>\n",
       "      <td>1359</td>\n",
       "      <td>1358</td>\n",
       "      <td>1</td>\n",
       "      <td>0.000736</td>\n",
       "    </tr>\n",
       "    <tr>\n",
       "      <th>3</th>\n",
       "      <td>3</td>\n",
       "      <td>G</td>\n",
       "      <td>0</td>\n",
       "      <td>1</td>\n",
       "      <td>1385</td>\n",
       "      <td>2</td>\n",
       "      <td>1388</td>\n",
       "      <td>1385</td>\n",
       "      <td>3</td>\n",
       "      <td>0.002161</td>\n",
       "    </tr>\n",
       "    <tr>\n",
       "      <th>4</th>\n",
       "      <td>4</td>\n",
       "      <td>G</td>\n",
       "      <td>0</td>\n",
       "      <td>1</td>\n",
       "      <td>1416</td>\n",
       "      <td>1</td>\n",
       "      <td>1418</td>\n",
       "      <td>1416</td>\n",
       "      <td>2</td>\n",
       "      <td>0.001410</td>\n",
       "    </tr>\n",
       "  </tbody>\n",
       "</table>\n",
       "</div>"
      ],
      "text/plain": [
       "   loc ref  A  C     G     T  coverage  ref_count  alt_count     ratio\n",
       "0    0   T  0  0     0  1079      1079       1079          0  0.000000\n",
       "1    1   G  5  0  1081     1      1087       1081          6  0.005520\n",
       "2    2   G  0  0  1358     1      1359       1358          1  0.000736\n",
       "3    3   G  0  1  1385     2      1388       1385          3  0.002161\n",
       "4    4   G  0  1  1416     1      1418       1416          2  0.001410"
      ]
     },
     "execution_count": 4,
     "metadata": {},
     "output_type": "execute_result"
    }
   ],
   "source": [
    "df = pd.read_csv('NA19240.pileup.txt', sep='\\t', index_col=0)\n",
    "\n",
    "df.head()"
   ]
  },
  {
   "cell_type": "code",
   "execution_count": 5,
   "metadata": {
    "collapsed": false
   },
   "outputs": [],
   "source": [
    "def calculate_deviance(s):\n",
    "    if s.alt_count == 0 or s.coverage <= 20:\n",
    "        return None\n",
    "    deviance = (s.expected_alt - s.adjusted_alt) / (np.sqrt(1.0 * s.coverage * s.ratio * (1 - s.ratio)))\n",
    "    return deviance\n",
    "\n",
    "def calculate_expected(s, tot):\n",
    "    \"\"\"Expected value\"\"\"\n",
    "    expected_ratio = (1.0 * s.NA + s.NB + s.NC + s.ND + s.NN) / tot\n",
    "    return expected_ratio * s.coverage"
   ]
  },
  {
   "cell_type": "code",
   "execution_count": 7,
   "metadata": {
    "collapsed": false
   },
   "outputs": [],
   "source": [
    "import numpy as np\n",
    "tot = 10\n",
    "df_m = df.merge(sun_df, on='loc')\n",
    "df_m['adjusted_alt'] = [x * (1.0 * tot / 10) for x in df_m['alt_count']]\n",
    "df_m['expected_alt'] = df_m.apply(calculate_expected, axis=1, tot=tot)\n",
    "df_m['deviance'] = df_m.apply(calculate_deviance, axis=1)"
   ]
  },
  {
   "cell_type": "code",
   "execution_count": 8,
   "metadata": {
    "collapsed": false
   },
   "outputs": [
    {
     "data": {
      "text/html": [
       "<div>\n",
       "<table border=\"1\" class=\"dataframe\">\n",
       "  <thead>\n",
       "    <tr style=\"text-align: right;\">\n",
       "      <th></th>\n",
       "      <th>loc</th>\n",
       "      <th>ref</th>\n",
       "      <th>A</th>\n",
       "      <th>C</th>\n",
       "      <th>G</th>\n",
       "      <th>T</th>\n",
       "      <th>coverage</th>\n",
       "      <th>ref_count</th>\n",
       "      <th>alt_count</th>\n",
       "      <th>ratio</th>\n",
       "      <th>NN</th>\n",
       "      <th>NA</th>\n",
       "      <th>NB</th>\n",
       "      <th>NC</th>\n",
       "      <th>ND</th>\n",
       "      <th>adjusted_alt</th>\n",
       "      <th>expected_alt</th>\n",
       "      <th>deviance</th>\n",
       "    </tr>\n",
       "  </thead>\n",
       "  <tbody>\n",
       "    <tr>\n",
       "      <th>0</th>\n",
       "      <td>1799</td>\n",
       "      <td>A</td>\n",
       "      <td>2314</td>\n",
       "      <td>5</td>\n",
       "      <td>467</td>\n",
       "      <td>5</td>\n",
       "      <td>2791</td>\n",
       "      <td>2314</td>\n",
       "      <td>477</td>\n",
       "      <td>0.170906</td>\n",
       "      <td>2</td>\n",
       "      <td>0</td>\n",
       "      <td>0</td>\n",
       "      <td>0</td>\n",
       "      <td>0</td>\n",
       "      <td>477.0</td>\n",
       "      <td>558.2</td>\n",
       "      <td>4.083148</td>\n",
       "    </tr>\n",
       "    <tr>\n",
       "      <th>1</th>\n",
       "      <td>1921</td>\n",
       "      <td>C</td>\n",
       "      <td>461</td>\n",
       "      <td>2755</td>\n",
       "      <td>8</td>\n",
       "      <td>5</td>\n",
       "      <td>3229</td>\n",
       "      <td>2755</td>\n",
       "      <td>474</td>\n",
       "      <td>0.146795</td>\n",
       "      <td>0</td>\n",
       "      <td>0</td>\n",
       "      <td>0</td>\n",
       "      <td>0</td>\n",
       "      <td>2</td>\n",
       "      <td>474.0</td>\n",
       "      <td>645.8</td>\n",
       "      <td>8.542937</td>\n",
       "    </tr>\n",
       "    <tr>\n",
       "      <th>2</th>\n",
       "      <td>1983</td>\n",
       "      <td>G</td>\n",
       "      <td>500</td>\n",
       "      <td>10</td>\n",
       "      <td>2334</td>\n",
       "      <td>10</td>\n",
       "      <td>2854</td>\n",
       "      <td>2334</td>\n",
       "      <td>520</td>\n",
       "      <td>0.182200</td>\n",
       "      <td>2</td>\n",
       "      <td>0</td>\n",
       "      <td>0</td>\n",
       "      <td>0</td>\n",
       "      <td>0</td>\n",
       "      <td>520.0</td>\n",
       "      <td>570.8</td>\n",
       "      <td>2.463421</td>\n",
       "    </tr>\n",
       "    <tr>\n",
       "      <th>3</th>\n",
       "      <td>2136</td>\n",
       "      <td>C</td>\n",
       "      <td>8</td>\n",
       "      <td>2000</td>\n",
       "      <td>6</td>\n",
       "      <td>133</td>\n",
       "      <td>2147</td>\n",
       "      <td>2000</td>\n",
       "      <td>147</td>\n",
       "      <td>0.068468</td>\n",
       "      <td>0</td>\n",
       "      <td>2</td>\n",
       "      <td>0</td>\n",
       "      <td>0</td>\n",
       "      <td>0</td>\n",
       "      <td>147.0</td>\n",
       "      <td>429.4</td>\n",
       "      <td>24.132763</td>\n",
       "    </tr>\n",
       "    <tr>\n",
       "      <th>4</th>\n",
       "      <td>2175</td>\n",
       "      <td>T</td>\n",
       "      <td>10</td>\n",
       "      <td>413</td>\n",
       "      <td>13</td>\n",
       "      <td>1805</td>\n",
       "      <td>2241</td>\n",
       "      <td>1805</td>\n",
       "      <td>436</td>\n",
       "      <td>0.194556</td>\n",
       "      <td>2</td>\n",
       "      <td>0</td>\n",
       "      <td>0</td>\n",
       "      <td>0</td>\n",
       "      <td>0</td>\n",
       "      <td>436.0</td>\n",
       "      <td>448.2</td>\n",
       "      <td>0.651027</td>\n",
       "    </tr>\n",
       "  </tbody>\n",
       "</table>\n",
       "</div>"
      ],
      "text/plain": [
       "    loc ref     A     C     G     T  coverage  ref_count  alt_count     ratio  \\\n",
       "0  1799   A  2314     5   467     5      2791       2314        477  0.170906   \n",
       "1  1921   C   461  2755     8     5      3229       2755        474  0.146795   \n",
       "2  1983   G   500    10  2334    10      2854       2334        520  0.182200   \n",
       "3  2136   C     8  2000     6   133      2147       2000        147  0.068468   \n",
       "4  2175   T    10   413    13  1805      2241       1805        436  0.194556   \n",
       "\n",
       "   NN  NA  NB  NC  ND  adjusted_alt  expected_alt   deviance  \n",
       "0   2   0   0   0   0         477.0         558.2   4.083148  \n",
       "1   0   0   0   0   2         474.0         645.8   8.542937  \n",
       "2   2   0   0   0   0         520.0         570.8   2.463421  \n",
       "3   0   2   0   0   0         147.0         429.4  24.132763  \n",
       "4   2   0   0   0   0         436.0         448.2   0.651027  "
      ]
     },
     "execution_count": 8,
     "metadata": {},
     "output_type": "execute_result"
    }
   ],
   "source": [
    "df_m.head()"
   ]
  },
  {
   "cell_type": "code",
   "execution_count": 10,
   "metadata": {
    "collapsed": true
   },
   "outputs": [],
   "source": [
    "from tools.bio import *\n",
    "_, seq = read_fasta('/hive/users/cbosworth/refs/notch/notch2_aligned_consensus.fasta', None).next()"
   ]
  },
  {
   "cell_type": "code",
   "execution_count": 16,
   "metadata": {
    "collapsed": false
   },
   "outputs": [
    {
     "data": {
      "text/plain": [
       "0.16026490066225166"
      ]
     },
     "execution_count": 16,
     "metadata": {},
     "output_type": "execute_result"
    }
   ],
   "source": [
    "121.0/(634+121)"
   ]
  },
  {
   "cell_type": "code",
   "execution_count": null,
   "metadata": {
    "collapsed": true
   },
   "outputs": [],
   "source": [
    "from collections import *\n",
    "deviances = defaultdict(list)\n",
    "for n, df in dev_dfs.iteritems():\n",
    "    for p, d in zip(df['loc'], df['deviance']):\n",
    "        deviances[p].append(d)"
   ]
  },
  {
   "cell_type": "code",
   "execution_count": null,
   "metadata": {
    "collapsed": false
   },
   "outputs": [],
   "source": [
    "%matplotlib inline\n",
    "import seaborn as sns\n",
    "import matplotlib.pyplot as plt\n",
    "vals = sorted(deviances.iteritems(), key=lambda x: x[0])\n",
    "positions, vals = zip(*vals)\n",
    "vals = [np.nanmean(x) for x in vals]\n",
    "plt.plot(positions, vals)"
   ]
  },
  {
   "cell_type": "code",
   "execution_count": null,
   "metadata": {
    "collapsed": true
   },
   "outputs": [],
   "source": [
    "# how many sites are always ratio of 0?\n",
    "site_map = defaultdict(list)\n",
    "for n, df in dev_dfs.iteritems():\n",
    "    for p, d in zip(df['loc'], df['ratio']):\n",
    "        site_map[p].append(d)\n",
    "\n",
    "bad_sites = set()\n",
    "for s, x in site_map.iteritems():\n",
    "    if all(v==0 for v in x):\n",
    "        bad_sites.add(s)"
   ]
  },
  {
   "cell_type": "code",
   "execution_count": null,
   "metadata": {
    "collapsed": false
   },
   "outputs": [],
   "source": [
    "print len(bad_sites)"
   ]
  },
  {
   "cell_type": "code",
   "execution_count": null,
   "metadata": {
    "collapsed": false
   },
   "outputs": [],
   "source": [
    "len(positions)"
   ]
  },
  {
   "cell_type": "code",
   "execution_count": 9,
   "metadata": {
    "collapsed": false
   },
   "outputs": [
    {
     "data": {
      "text/plain": [
       "'/hive/users/ifiddes/notch2nl_berkeley_data/imputation_pipeline'"
      ]
     },
     "execution_count": 9,
     "metadata": {},
     "output_type": "execute_result"
    }
   ],
   "source": [
    "# need to plot this per-paralog\n",
    "os.getcwd()"
   ]
  },
  {
   "cell_type": "code",
   "execution_count": 22,
   "metadata": {
    "collapsed": false
   },
   "outputs": [
    {
     "data": {
      "text/plain": [
       "'TTCACATTGTGTTTTGCTTGGTTTTATATAT'"
      ]
     },
     "execution_count": 22,
     "metadata": {},
     "output_type": "execute_result"
    }
   ],
   "source": [
    "seq[1606-15:1606+16]"
   ]
  },
  {
   "cell_type": "code",
   "execution_count": 21,
   "metadata": {
    "collapsed": false
   },
   "outputs": [
    {
     "data": {
      "text/plain": [
       "30"
      ]
     },
     "execution_count": 21,
     "metadata": {},
     "output_type": "execute_result"
    }
   ],
   "source": [
    "len('TTCACATTGTGTTTTGCTTGGTTTTATATAT')"
   ]
  },
  {
   "cell_type": "code",
   "execution_count": null,
   "metadata": {
    "collapsed": true
   },
   "outputs": [],
   "source": [
    "TTCACATTGTGTTTTTCTTGGTTTTATATAT"
   ]
  }
 ],
 "metadata": {
  "kernelspec": {
   "display_name": "Python [Root]",
   "language": "python",
   "name": "Python [Root]"
  },
  "language_info": {
   "codemirror_mode": {
    "name": "ipython",
    "version": 2
   },
   "file_extension": ".py",
   "mimetype": "text/x-python",
   "name": "python",
   "nbconvert_exporter": "python",
   "pygments_lexer": "ipython2",
   "version": "2.7.11"
  }
 },
 "nbformat": 4,
 "nbformat_minor": 0
}
