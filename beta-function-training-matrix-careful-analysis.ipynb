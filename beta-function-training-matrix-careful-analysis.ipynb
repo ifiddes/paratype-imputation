{
 "cells": [
  {
   "cell_type": "code",
   "execution_count": 810,
   "metadata": {
    "collapsed": false
   },
   "outputs": [],
   "source": [
    "import pandas as pd\n",
    "from glob import glob\n",
    "import numpy as np\n",
    "from tools.procOps import *\n",
    "from tools.fileOps import *\n",
    "from collections import *\n",
    "import itertools\n",
    "from scipy.special import *\n",
    "from tools.bio import *"
   ]
  },
  {
   "cell_type": "code",
   "execution_count": 811,
   "metadata": {
    "collapsed": false
   },
   "outputs": [],
   "source": [
    "# load feature set\n",
    "sun_df = pd.read_csv('merged_features.tsv', sep='\\t')"
   ]
  },
  {
   "cell_type": "code",
   "execution_count": 813,
   "metadata": {
    "collapsed": false
   },
   "outputs": [],
   "source": [
    "# filter features such that if they are C/D/N they must be unambiguous\n",
    "f = []\n",
    "for loc, s in sun_df.set_index('loc').iterrows():\n",
    "    if s.C > 0 or s.D > 0 or s.N > 0:\n",
    "        if sum(s) > 1:\n",
    "            continue\n",
    "    f.append([loc] + list(s))\n",
    "sun_df = pd.DataFrame(f, columns=sun_df.columns)"
   ]
  },
  {
   "cell_type": "code",
   "execution_count": 815,
   "metadata": {
    "collapsed": false
   },
   "outputs": [],
   "source": [
    "# now try this on real data\n",
    "\n",
    "# load parsed pileups\n",
    "files = glob('/hive/users/ifiddes/simons_normals/*.parsed_pileup.txt')\n",
    "dfs = {}\n",
    "for f in files:\n",
    "    n = os.path.basename(f).split('.')[0]\n",
    "    dfs[n] = pd.read_csv(f, sep='\\t', index_col=0)\n",
    "    \n",
    "# load C/D copy number estimates\n",
    "\n",
    "files = glob('/hive/users/ifiddes/simons_normals/*.filtered.txt')\n",
    "def convert(x):\n",
    "    x = x.split(':')\n",
    "    n, v = x\n",
    "    v = int(v)\n",
    "    return n, v\n",
    "\n",
    "copy_number = {}\n",
    "for x in files:\n",
    "    n = os.path.basename(x).split('.')[0]\n",
    "    l = open(x).next().rstrip().split()\n",
    "    c = []\n",
    "    for x in l[2:4]:\n",
    "        _, v = convert(x)\n",
    "        c.append(v)\n",
    "    copy_number[n] = c\n",
    "    \n",
    "    \n",
    "# filter dataframes for C = 2 and D = 2\n",
    "# also filter for informative positions\n",
    "filtered_dfs = {}\n",
    "for n, df in dfs.iteritems():\n",
    "    c = copy_number[n]\n",
    "    if sum(c) != 4:\n",
    "        continue\n",
    "    df_m = df.merge(sun_df, on='loc')\n",
    "    df_m = df_m[df_m['loc'].isin(sun_df['loc'])]\n",
    "    filtered_dfs[n] = df_m"
   ]
  },
  {
   "cell_type": "code",
   "execution_count": 818,
   "metadata": {
    "collapsed": true
   },
   "outputs": [],
   "source": [
    "# filter SUNs because there are 3 loci missing in the real data for some reason\n",
    "filtered_sun_df = sun_df[sun_df['loc'].isin(df_m['loc'])]"
   ]
  },
  {
   "cell_type": "code",
   "execution_count": 820,
   "metadata": {
    "collapsed": true
   },
   "outputs": [],
   "source": [
    "# calculate total depth at each position\n",
    "tot = []\n",
    "for n, df_m in filtered_dfs.iteritems():\n",
    "    tot.append(df_m.coverage)\n",
    "tot = np.array(tot)\n",
    "tot = tot.sum(axis=0)"
   ]
  },
  {
   "cell_type": "code",
   "execution_count": 816,
   "metadata": {
    "collapsed": false
   },
   "outputs": [
    {
     "name": "stdout",
     "output_type": "stream",
     "text": [
      "first 10 proposed haplotypes:\n",
      "[[ 0.  0.  2.  5.]\n",
      " [ 0.  0.  3.  4.]\n",
      " [ 0.  0.  3.  5.]\n",
      " [ 0.  0.  4.  3.]\n",
      " [ 0.  0.  4.  4.]\n",
      " [ 0.  0.  4.  5.]\n",
      " [ 0.  0.  5.  2.]\n",
      " [ 0.  0.  5.  3.]\n",
      " [ 0.  0.  5.  4.]\n",
      " [ 0.  0.  5.  5.]]\n",
      "all_k[0][:10]: [ 5.  2.  5.  5.  5.  2.  7.  7.  7.  0.]\n",
      "all_l[0][:10]: [ 2.  5.  2.  2.  2.  5.  0.  0.  0.  7.]\n"
     ]
    }
   ],
   "source": [
    "# allow anywhere from 7 to 12 haplotypes\n",
    "min_n = 7\n",
    "max_n = 12\n",
    "\n",
    "# range of possible genotypes\n",
    "genotypes = range(0, 6)  # [0, 1, 2, 3, 4, 5]\n",
    "\n",
    "# number of columns\n",
    "num_paratypes = 4\n",
    "r = []\n",
    "for i in itertools.product(genotypes, repeat=num_paratypes):\n",
    "    if min_n <= np.sum(i) <= max_n:\n",
    "        r.append(i)\n",
    "\n",
    "C = np.array(r).astype(float)\n",
    "print 'first 10 proposed haplotypes:'\n",
    "print C[:10]\n",
    "\n",
    "f = filtered_sun_df[['NAB', 'NC', 'ND', 'NN']]\n",
    "all_K = np.dot(C, f.T)\n",
    "\n",
    "# now we can't just subtract 10, because the total number of paratypes at each proposed genotype changes\n",
    "num_genotypes = C.sum(axis=1)\n",
    "all_L = (num_genotypes - all_K.T).T\n",
    "\n",
    "print 'all_k[0][:10]: {}'.format(all_K[0][:10])\n",
    "\n",
    "print 'all_l[0][:10]: {}'.format(all_L[0][:10])"
   ]
  },
  {
   "cell_type": "code",
   "execution_count": null,
   "metadata": {
    "collapsed": true
   },
   "outputs": [],
   "source": [
    "# load training data. training data are only our solved genomes -- NA24385, NA12878, NA19240, H9 and CHM1\n",
    "\n",
    "pileups = {'NA24385': '/hive/users/cbosworth/imputation/NA24385/'}"
   ]
  },
  {
   "cell_type": "code",
   "execution_count": 821,
   "metadata": {
    "collapsed": false
   },
   "outputs": [],
   "source": [
    "# load actual data from pileups into actual_alt, synthetic_alt, depth, s\n",
    "actual_alt = []\n",
    "synthetic_alt = []\n",
    "depth = []\n",
    "s_matrix = []  # genotype matrix\n",
    "\n",
    "f = filtered_sun_df.set_index('loc').as_matrix()\n",
    "\n",
    "for n, df_m in filtered_dfs.iteritems():\n",
    "    for _, s in df_m.iterrows():\n",
    "        if s.coverage >= 10 and s.ratio >= 0.01:\n",
    "            actual_alt.append(s.alt_count)\n",
    "            depth.append(s.coverage)\n",
    "        else:\n",
    "            depth.append(0)\n",
    "            actual_alt.append(0)\n",
    "    # always 4-2-2-2\n",
    "    s_matrix.append([4, 2, 2, 2])"
   ]
  },
  {
   "cell_type": "code",
   "execution_count": 822,
   "metadata": {
    "collapsed": false
   },
   "outputs": [],
   "source": [
    "depth = np.array(depth).reshape(len(filtered_dfs), df_m.shape[0]).T\n",
    "actual_alt = np.array(actual_alt).reshape(len(filtered_dfs), df_m.shape[0]).T\n",
    "s = np.array(s_matrix).T"
   ]
  },
  {
   "cell_type": "code",
   "execution_count": 823,
   "metadata": {
    "collapsed": false
   },
   "outputs": [
    {
     "ename": "ValueError",
     "evalue": "shapes (881,20) and (4,104) not aligned: 20 (dim 1) != 4 (dim 0)",
     "output_type": "error",
     "traceback": [
      "\u001b[1;31m---------------------------------------------------------------------------\u001b[0m",
      "\u001b[1;31mValueError\u001b[0m                                Traceback (most recent call last)",
      "\u001b[1;32m<ipython-input-823-566b7e8be2f8>\u001b[0m in \u001b[0;36m<module>\u001b[1;34m()\u001b[0m\n\u001b[0;32m      1\u001b[0m \u001b[1;31m# calculate synthetic depth for all genomes\u001b[0m\u001b[1;33m\u001b[0m\u001b[1;33m\u001b[0m\u001b[0m\n\u001b[1;32m----> 2\u001b[1;33m \u001b[0mtsa\u001b[0m \u001b[1;33m=\u001b[0m \u001b[1;33m(\u001b[0m\u001b[0mnp\u001b[0m\u001b[1;33m.\u001b[0m\u001b[0mmultiply\u001b[0m\u001b[1;33m(\u001b[0m\u001b[0mdepth\u001b[0m\u001b[1;33m,\u001b[0m \u001b[0mnp\u001b[0m\u001b[1;33m.\u001b[0m\u001b[0mdot\u001b[0m\u001b[1;33m(\u001b[0m\u001b[0mf\u001b[0m\u001b[1;33m,\u001b[0m \u001b[0ms\u001b[0m\u001b[1;33m)\u001b[0m\u001b[1;33m)\u001b[0m \u001b[1;33m/\u001b[0m \u001b[1;36m10\u001b[0m\u001b[1;33m)\u001b[0m\u001b[1;33m.\u001b[0m\u001b[0msum\u001b[0m\u001b[1;33m(\u001b[0m\u001b[0maxis\u001b[0m\u001b[1;33m=\u001b[0m\u001b[1;36m1\u001b[0m\u001b[1;33m)\u001b[0m  \u001b[1;31m# ploidy is always 10\u001b[0m\u001b[1;33m\u001b[0m\u001b[0m\n\u001b[0m",
      "\u001b[1;31mValueError\u001b[0m: shapes (881,20) and (4,104) not aligned: 20 (dim 1) != 4 (dim 0)"
     ]
    }
   ],
   "source": [
    "# calculate synthetic depth for all genomes\n",
    "tsa = (np.multiply(depth, np.dot(f, s)) / 10).sum(axis=1)  # ploidy is always 10"
   ]
  },
  {
   "cell_type": "code",
   "execution_count": null,
   "metadata": {
    "collapsed": false
   },
   "outputs": [],
   "source": [
    "taa = actual_alt.sum(axis=1)"
   ]
  },
  {
   "cell_type": "code",
   "execution_count": null,
   "metadata": {
    "collapsed": true
   },
   "outputs": [],
   "source": [
    "depth_total = depth.sum(axis=1)"
   ]
  },
  {
   "cell_type": "code",
   "execution_count": null,
   "metadata": {
    "collapsed": false
   },
   "outputs": [],
   "source": [
    "synthetic_alt = []\n",
    "for h in H:\n",
    "    synthetic_alt.append(np.multiply(depth_total, np.dot(f, h)) / sum(h))\n",
    "synthetic_alt = np.array(synthetic_alt)"
   ]
  },
  {
   "cell_type": "code",
   "execution_count": null,
   "metadata": {
    "collapsed": true
   },
   "outputs": [],
   "source": [
    "bias = taa / tsa"
   ]
  },
  {
   "cell_type": "code",
   "execution_count": null,
   "metadata": {
    "collapsed": false
   },
   "outputs": [],
   "source": [
    "projected_alt = np.multiply(synthetic_alt, bias)"
   ]
  },
  {
   "cell_type": "code",
   "execution_count": null,
   "metadata": {
    "collapsed": true
   },
   "outputs": [],
   "source": [
    "projected_ref = depth_total - projected_alt"
   ]
  },
  {
   "cell_type": "code",
   "execution_count": null,
   "metadata": {
    "collapsed": false
   },
   "outputs": [],
   "source": [
    "u = projected_alt / (projected_alt + projected_ref)\n",
    "a_matrix = u * (tot - 1)\n",
    "b_matrix = (1 - u) * (tot  - 1)"
   ]
  },
  {
   "cell_type": "code",
   "execution_count": null,
   "metadata": {
    "collapsed": true
   },
   "outputs": [],
   "source": [
    "# mix a and b slightly to give noise\n",
    "delta = 0.01\n",
    "aprime = (1 - delta) * a_matrix + delta * b_matrix\n",
    "bprime = (1 - delta) * b_matrix + delta * a_matrix"
   ]
  },
  {
   "cell_type": "code",
   "execution_count": null,
   "metadata": {
    "collapsed": false
   },
   "outputs": [],
   "source": [
    "# score these matrices for a random person (person #1)\n",
    "m = df_m.alt_count\n",
    "n = df_m.ref_count\n",
    "\n",
    "r_values = []\n",
    "for a, b in zip(aprime, bprime):\n",
    "    r_values.append(np.sum(betaln(m + a, n + b) - betaln(a, b)))\n",
    "    \n",
    "# figure out which one was the best scoring\n",
    "r_map = {i: x for i, x in enumerate(r_values)}\n",
    "best_index, score = sorted(r_map.iteritems(), key=lambda x: x[1])[-1]\n",
    "best_haps = H[best_index]\n",
    "ordered = sorted(r_map.iteritems(), key=lambda x: x[1])[-10:][::-1]\n",
    "print 'log odds: {}'.format(score)\n",
    "print ''\n",
    "print 'results: '\n",
    "for x, y in zip(sun_df.columns[1:], best_haps):\n",
    "    if y > 0:\n",
    "        print '{}: {}'.format(x, y)\n",
    "\n",
    "print ' '.join(sun_df.columns[1:])\n",
    "print 'top 10 hits:'\n",
    "for i, x in enumerate([[H[pos], pos, val] for pos, val in ordered], 1):\n",
    "    print '{}: {}'.format(i, x)\n"
   ]
  },
  {
   "cell_type": "code",
   "execution_count": null,
   "metadata": {
    "collapsed": false
   },
   "outputs": [],
   "source": [
    "# now lets try predicting copy number across the whole cohort\n",
    "\n",
    "results = []\n",
    "for g, df_m in dfs.iteritems():\n",
    "    df_m = df_m[df_m['loc'].isin(filtered_sun_df['loc'])]\n",
    "    m = df_m.alt_count\n",
    "    n = df_m.ref_count\n",
    "    r_values = []\n",
    "    for a, b in zip(a_matrix, b_matrix):\n",
    "        r_values.append(np.sum(betaln(m + a, n + b) - betaln(a, b)))\n",
    "    # figure out which one was the best scoring\n",
    "    r_map = {i: x for i, x in enumerate(r_values)}\n",
    "    best_index, score = sorted(r_map.iteritems(), key=lambda x: x[1])[-1]\n",
    "    best_haps = C[best_index]\n",
    "    results.append([g] + list(best_haps))"
   ]
  },
  {
   "cell_type": "code",
   "execution_count": null,
   "metadata": {
    "collapsed": false
   },
   "outputs": [],
   "source": [
    "results = pd.DataFrame(results, columns=['genome', 'NAB', 'NC', 'ND', 'NN'])\n",
    "results.head()"
   ]
  },
  {
   "cell_type": "code",
   "execution_count": null,
   "metadata": {
    "collapsed": false
   },
   "outputs": [],
   "source": [
    "Counter(results.NAB)"
   ]
  },
  {
   "cell_type": "code",
   "execution_count": null,
   "metadata": {
    "collapsed": false
   },
   "outputs": [],
   "source": [
    "Counter(results.NC)"
   ]
  },
  {
   "cell_type": "code",
   "execution_count": null,
   "metadata": {
    "collapsed": false
   },
   "outputs": [],
   "source": [
    "Counter(results.ND)"
   ]
  },
  {
   "cell_type": "code",
   "execution_count": null,
   "metadata": {
    "collapsed": false
   },
   "outputs": [],
   "source": [
    "Counter(results.NN)"
   ]
  },
  {
   "cell_type": "code",
   "execution_count": 824,
   "metadata": {
    "collapsed": false
   },
   "outputs": [
    {
     "name": "stdout",
     "output_type": "stream",
     "text": [
      "{\n",
      "  \"stdin_port\": 53402, \n",
      "  \"ip\": \"127.0.0.1\", \n",
      "  \"control_port\": 46384, \n",
      "  \"hb_port\": 59930, \n",
      "  \"signature_scheme\": \"hmac-sha256\", \n",
      "  \"key\": \"3eab0c5b-e164-4bd0-a925-70495a18f475\", \n",
      "  \"kernel_name\": \"\", \n",
      "  \"shell_port\": 59278, \n",
      "  \"transport\": \"tcp\", \n",
      "  \"iopub_port\": 57040\n",
      "}\n",
      "\n",
      "Paste the above JSON into a file, and connect with:\n",
      "    $> ipython <app> --existing <file>\n",
      "or, if you are local, you can connect with just:\n",
      "    $> ipython <app> --existing /cluster/home/ifiddes/.local/share/jupyter/runtime/kernel-7f5cc25f-c4ca-4470-88c5-94be0e177a03.json \n",
      "or even just:\n",
      "    $> ipython <app> --existing \n",
      "if this is the most recent IPython session you have started.\n"
     ]
    }
   ],
   "source": [
    "%connect_info"
   ]
  },
  {
   "cell_type": "code",
   "execution_count": null,
   "metadata": {
    "collapsed": true
   },
   "outputs": [],
   "source": []
  }
 ],
 "metadata": {
  "kernelspec": {
   "display_name": "Python [Root]",
   "language": "python",
   "name": "Python [Root]"
  },
  "language_info": {
   "codemirror_mode": {
    "name": "ipython",
    "version": 2
   },
   "file_extension": ".py",
   "mimetype": "text/x-python",
   "name": "python",
   "nbconvert_exporter": "python",
   "pygments_lexer": "ipython2",
   "version": "2.7.11"
  }
 },
 "nbformat": 4,
 "nbformat_minor": 0
}
