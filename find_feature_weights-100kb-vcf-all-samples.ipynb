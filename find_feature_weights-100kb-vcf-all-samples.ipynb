{
 "cells": [
  {
   "cell_type": "code",
   "execution_count": 19,
   "metadata": {
    "collapsed": false
   },
   "outputs": [
    {
     "data": {
      "text/html": [
       "<div>\n",
       "<table border=\"1\" class=\"dataframe\">\n",
       "  <thead>\n",
       "    <tr style=\"text-align: right;\">\n",
       "      <th></th>\n",
       "      <th>loc</th>\n",
       "      <th>NAB</th>\n",
       "      <th>NC</th>\n",
       "      <th>ND</th>\n",
       "      <th>NN</th>\n",
       "    </tr>\n",
       "  </thead>\n",
       "  <tbody>\n",
       "    <tr>\n",
       "      <th>0</th>\n",
       "      <td>1799</td>\n",
       "      <td>0</td>\n",
       "      <td>0</td>\n",
       "      <td>0</td>\n",
       "      <td>2</td>\n",
       "    </tr>\n",
       "    <tr>\n",
       "      <th>1</th>\n",
       "      <td>1921</td>\n",
       "      <td>0</td>\n",
       "      <td>0</td>\n",
       "      <td>2</td>\n",
       "      <td>0</td>\n",
       "    </tr>\n",
       "    <tr>\n",
       "      <th>2</th>\n",
       "      <td>1983</td>\n",
       "      <td>0</td>\n",
       "      <td>0</td>\n",
       "      <td>0</td>\n",
       "      <td>2</td>\n",
       "    </tr>\n",
       "    <tr>\n",
       "      <th>3</th>\n",
       "      <td>2129</td>\n",
       "      <td>4</td>\n",
       "      <td>0</td>\n",
       "      <td>0</td>\n",
       "      <td>0</td>\n",
       "    </tr>\n",
       "    <tr>\n",
       "      <th>4</th>\n",
       "      <td>2136</td>\n",
       "      <td>2</td>\n",
       "      <td>0</td>\n",
       "      <td>0</td>\n",
       "      <td>0</td>\n",
       "    </tr>\n",
       "  </tbody>\n",
       "</table>\n",
       "</div>"
      ],
      "text/plain": [
       "    loc  NAB  NC  ND  NN\n",
       "0  1799    0   0   0   2\n",
       "1  1921    0   0   2   0\n",
       "2  1983    0   0   0   2\n",
       "3  2129    4   0   0   0\n",
       "4  2136    2   0   0   0"
      ]
     },
     "execution_count": 19,
     "metadata": {},
     "output_type": "execute_result"
    }
   ],
   "source": [
    "import pandas as pd\n",
    "\n",
    "sun_df = pd.read_csv('hg38_features_ab_merge.txt', sep='\\t')\n",
    "sun_df.columns = ['loc', 'NAB', 'NC', 'ND', 'NN']\n",
    "sun_df = (sun_df.set_index('loc') * 2).reset_index()\n",
    "sun_df.head()"
   ]
  },
  {
   "cell_type": "code",
   "execution_count": 20,
   "metadata": {
    "collapsed": false
   },
   "outputs": [],
   "source": [
    "from glob import glob"
   ]
  },
  {
   "cell_type": "code",
   "execution_count": 21,
   "metadata": {
    "collapsed": true
   },
   "outputs": [],
   "source": [
    "from tools.bio import *\n",
    "fa = '/hive/users/cbosworth/refs/notch/notch2_aligned_consensus.fasta'\n",
    "_, seq = read_fasta(fa, None).next()"
   ]
  },
  {
   "cell_type": "code",
   "execution_count": 4,
   "metadata": {
    "collapsed": true
   },
   "outputs": [],
   "source": [
    "def ref_count(s):\n",
    "    return s[s.ref]\n",
    "\n",
    "\n",
    "def load_pileup(pileup_path):\n",
    "    r = [x.split() for x in open(pileup_path)]\n",
    "    return pd.DataFrame(r[1:], columns=r[0])\n",
    "\n",
    "\n",
    "\n",
    "def convert_pileup(pileup_recs, pileup_converter):\n",
    "    with TemporaryFilePath() as tmp, TemporaryFilePath() as tmp2:\n",
    "        with open(tmp, 'w') as outf:\n",
    "            for l in pileup_recs:\n",
    "                outf.write(l + '\\n')\n",
    "        cmd = ['perl', pileup_converter, tmp, 0, tmp2]\n",
    "        r = run_proc(cmd, stderr='/dev/null', stdout='/dev/null')\n",
    "        return load_pileup(tmp2)\n",
    "\n",
    "    \n",
    "def make_pileup(bam):\n",
    "    \"\"\"Construct a pileup from a bam\"\"\"\n",
    "    cmd = ['samtools', 'mpileup', bam]\n",
    "    return call_proc_lines(cmd)\n",
    "\n",
    "\n",
    "bases = {'A', 'T', 'G', 'C'}\n",
    "def alt_count(s):\n",
    "    return sum(s[x] for x in bases if x != s.ref)\n",
    "\n",
    "\n",
    "def parse_converted_pileup(df, seq):\n",
    "    df['loc'] = np.array(map(int, df['loc'])) - 1\n",
    "    df['ref'] = [seq[i] for i in df['loc']]\n",
    "    df = df[df.ref.isin(bases)]\n",
    "    df['A'] = pd.to_numeric(df['A']) + pd.to_numeric(df['a'])\n",
    "    df['C'] = pd.to_numeric(df['C']) + pd.to_numeric(df['c'])\n",
    "    df['G'] = pd.to_numeric(df['G']) + pd.to_numeric(df['g'])\n",
    "    df['T'] = pd.to_numeric(df['T']) + pd.to_numeric(df['t'])\n",
    "    df = df[['loc', 'ref', 'A', 'C', 'G', 'T']]\n",
    "    df['coverage'] = df[['A', 'T', 'G', 'C']].sum(axis=1)\n",
    "    df['ref_count'] = df.apply(ref_count, axis=1)\n",
    "    df['alt_count'] = df.apply(alt_count, axis=1)\n",
    "    df['ratio'] = 1.0 * df.alt_count / (df.alt_count + df.ref_count)\n",
    "    return df\n"
   ]
  },
  {
   "cell_type": "code",
   "execution_count": 5,
   "metadata": {
    "collapsed": false
   },
   "outputs": [],
   "source": [
    "import numpy as np\n",
    "from tools.procOps import *\n",
    "from tools.fileOps import *\n",
    "import multiprocessing\n",
    "bases = {'A', 'T', 'G', 'C'}\n",
    "pileup_converter = '/cluster/home/ifiddes/pileup2base/pileup2base.pl'\n",
    "pd.set_option('chained_assignment',None)\n",
    "def parse_fn(bam):\n",
    "    n = os.path.basename(bam).split('.')[0]\n",
    "    pileup_recs = make_pileup(bam)\n",
    "    df = convert_pileup(pileup_recs, pileup_converter)\n",
    "    df = parse_converted_pileup(df, seq)\n",
    "    out = os.path.join('/hive/users/ifiddes/simons_normals', n + '.parsed_pileup.txt')\n",
    "    df.to_csv(out, sep='\\t')\n",
    "    return df\n",
    "\n",
    "\n",
    "bams = glob('/hive/users/ifiddes/simons_normals/*.filtered.consensus.bam')\n",
    "p = multiprocessing.Pool(processes=10)\n",
    "r = p.map(parse_fn, bams)\n",
    "dfs = {os.path.basename(bam).split('.')[0]: df for bam, df in zip(bams, r)}\n",
    "p.close()\n",
    "p.join()"
   ]
  },
  {
   "cell_type": "code",
   "execution_count": 23,
   "metadata": {
    "collapsed": true
   },
   "outputs": [],
   "source": [
    "# now try this on real data\n",
    "\n",
    "# load parsed pileups\n",
    "files = glob('/hive/users/ifiddes/simons_normals/*.parsed_pileup.txt')\n",
    "dfs = {}\n",
    "for f in files:\n",
    "    n = os.path.basename(f).split('.')[0]\n",
    "    dfs[n] = pd.read_csv(f, sep='\\t', index_col=0)\n",
    "    \n",
    "# load C/D copy number estimates\n",
    "\n",
    "files = glob('/hive/users/ifiddes/simons_normals/*.filtered.txt')\n",
    "def convert(x):\n",
    "    x = x.split(':')\n",
    "    n, v = x\n",
    "    v = int(v)\n",
    "    return n, v\n",
    "\n",
    "copy_number = {}\n",
    "for x in files:\n",
    "    n = os.path.basename(x).split('.')[0]\n",
    "    l = open(x).next().rstrip().split()\n",
    "    c = []\n",
    "    for x in l[2:4]:\n",
    "        _, v = convert(x)\n",
    "        c.append(v)\n",
    "    copy_number[n] = c\n",
    "    \n",
    "    \n",
    "# filter dataframes for C = 2 and D = 2\n",
    "# also filter for informative positions\n",
    "filtered_dfs = {}\n",
    "for n, df in dfs.iteritems():\n",
    "    c = copy_number[n]\n",
    "    if sum(c) != 4:\n",
    "        continue\n",
    "    df_m = df.merge(sun_df, on='loc')\n",
    "    df_m = df_m[df_m['loc'].isin(sun_df['loc'])]\n",
    "    filtered_dfs[n] = df_m"
   ]
  },
  {
   "cell_type": "code",
   "execution_count": 26,
   "metadata": {
    "collapsed": false
   },
   "outputs": [],
   "source": [
    "def calculate_deviance(s):\n",
    "    if s.alt_count == 0 or s.coverage <= 20:\n",
    "        return None\n",
    "    deviance = (s.expected_alt - s.alt_count) / (np.sqrt(1.0 * s.coverage * s.ratio * (1 - s.ratio)))\n",
    "    return deviance\n",
    "\n",
    "\n",
    "def calculate_expected(s, tot):\n",
    "    \"\"\"Expected value\"\"\"\n",
    "    expected_ratio = (1.0 * s.NAB + s.NC + s.ND + s.NN) / tot\n",
    "    return expected_ratio * s.coverage"
   ]
  },
  {
   "cell_type": "code",
   "execution_count": 27,
   "metadata": {
    "collapsed": false
   },
   "outputs": [],
   "source": [
    "positions = set(sun_df['loc'])\n",
    "dev_dfs = {}\n",
    "for n, df in dfs.iteritems():\n",
    "    if n not in m:\n",
    "        continue\n",
    "    num_c, num_d = m[n]\n",
    "    tot = 6 + num_c + num_d\n",
    "    df_m = df.merge(sun_df, on='loc')\n",
    "    df_m['NC'] = [x - (2 - num_c) if x != 0 else x for x in df_m['NC']]\n",
    "    df_m['ND'] = [x - (2 - num_d) if x != 0 else x for x in df_m['ND']]\n",
    "    df_m['expected_alt'] = df_m.apply(calculate_expected, axis=1, tot=tot)\n",
    "    df_m['deviance'] = df_m.apply(calculate_deviance, axis=1)\n",
    "    dev_dfs[n] = df_m"
   ]
  },
  {
   "cell_type": "code",
   "execution_count": 28,
   "metadata": {
    "collapsed": true
   },
   "outputs": [],
   "source": [
    "from collections import *\n",
    "deviances = defaultdict(list)\n",
    "for n, df in dev_dfs.iteritems():\n",
    "    for p, d in zip(df['loc'], df['deviance']):\n",
    "        deviances[p].append(d)"
   ]
  },
  {
   "cell_type": "code",
   "execution_count": 29,
   "metadata": {
    "collapsed": false
   },
   "outputs": [
    {
     "data": {
      "text/plain": [
       "<matplotlib.collections.PathCollection at 0x7f92dabf1b50>"
      ]
     },
     "execution_count": 29,
     "metadata": {},
     "output_type": "execute_result"
    },
    {
     "data": {
      "image/png": "[encoded data removed]",
      "text/plain": [
       "<matplotlib.figure.Figure at 0x7f943c686f90>"
      ]
     },
     "metadata": {},
     "output_type": "display_data"
    }
   ],
   "source": [
    "%matplotlib inline\n",
    "import seaborn as sns\n",
    "import matplotlib.pyplot as plt\n",
    "vals = sorted(deviances.iteritems(), key=lambda x: x[0])\n",
    "positions, vals = zip(*vals)\n",
    "vals = [np.nanmean(x) for x in vals]\n",
    "plt.scatter(positions, vals, s=3)"
   ]
  },
  {
   "cell_type": "code",
   "execution_count": 30,
   "metadata": {
    "collapsed": false
   },
   "outputs": [
    {
     "ename": "AttributeError",
     "evalue": "'Series' object has no attribute 'NA'",
     "output_type": "error",
     "traceback": [
      "\u001b[1;31m---------------------------------------------------------------------------\u001b[0m",
      "\u001b[1;31mAttributeError\u001b[0m                            Traceback (most recent call last)",
      "\u001b[1;32m<ipython-input-30-b594d7182896>\u001b[0m in \u001b[0;36m<module>\u001b[1;34m()\u001b[0m\n\u001b[0;32m      7\u001b[0m         \u001b[1;32mif\u001b[0m \u001b[0ms\u001b[0m\u001b[1;33m.\u001b[0m\u001b[0mNN\u001b[0m \u001b[1;33m>\u001b[0m \u001b[1;36m0\u001b[0m\u001b[1;33m:\u001b[0m\u001b[1;33m\u001b[0m\u001b[0m\n\u001b[0;32m      8\u001b[0m             \u001b[0mdeviances_by_paralog\u001b[0m\u001b[1;33m[\u001b[0m\u001b[1;34m'NN'\u001b[0m\u001b[1;33m]\u001b[0m\u001b[1;33m[\u001b[0m\u001b[0ms\u001b[0m\u001b[1;33m[\u001b[0m\u001b[1;34m'loc'\u001b[0m\u001b[1;33m]\u001b[0m\u001b[1;33m]\u001b[0m\u001b[1;33m.\u001b[0m\u001b[0mappend\u001b[0m\u001b[1;33m(\u001b[0m\u001b[0ms\u001b[0m\u001b[1;33m[\u001b[0m\u001b[1;34m'deviance'\u001b[0m\u001b[1;33m]\u001b[0m\u001b[1;33m)\u001b[0m\u001b[1;33m\u001b[0m\u001b[0m\n\u001b[1;32m----> 9\u001b[1;33m         \u001b[1;32mif\u001b[0m \u001b[0ms\u001b[0m\u001b[1;33m.\u001b[0m\u001b[0mNA\u001b[0m \u001b[1;33m>\u001b[0m \u001b[1;36m0\u001b[0m\u001b[1;33m:\u001b[0m\u001b[1;33m\u001b[0m\u001b[0m\n\u001b[0m\u001b[0;32m     10\u001b[0m             \u001b[0mdeviances_by_paralog\u001b[0m\u001b[1;33m[\u001b[0m\u001b[1;34m'NA'\u001b[0m\u001b[1;33m]\u001b[0m\u001b[1;33m[\u001b[0m\u001b[0ms\u001b[0m\u001b[1;33m[\u001b[0m\u001b[1;34m'loc'\u001b[0m\u001b[1;33m]\u001b[0m\u001b[1;33m]\u001b[0m\u001b[1;33m.\u001b[0m\u001b[0mappend\u001b[0m\u001b[1;33m(\u001b[0m\u001b[0ms\u001b[0m\u001b[1;33m[\u001b[0m\u001b[1;34m'deviance'\u001b[0m\u001b[1;33m]\u001b[0m\u001b[1;33m)\u001b[0m\u001b[1;33m\u001b[0m\u001b[0m\n\u001b[0;32m     11\u001b[0m         \u001b[1;32mif\u001b[0m \u001b[0ms\u001b[0m\u001b[1;33m.\u001b[0m\u001b[0mNB\u001b[0m \u001b[1;33m>\u001b[0m \u001b[1;36m0\u001b[0m\u001b[1;33m:\u001b[0m\u001b[1;33m\u001b[0m\u001b[0m\n",
      "\u001b[1;32m/cluster/home/ifiddes/anaconda2/lib/python2.7/site-packages/pandas/core/generic.pyc\u001b[0m in \u001b[0;36m__getattr__\u001b[1;34m(self, name)\u001b[0m\n\u001b[0;32m   2670\u001b[0m             \u001b[1;32mif\u001b[0m \u001b[0mname\u001b[0m \u001b[1;32min\u001b[0m \u001b[0mself\u001b[0m\u001b[1;33m.\u001b[0m\u001b[0m_info_axis\u001b[0m\u001b[1;33m:\u001b[0m\u001b[1;33m\u001b[0m\u001b[0m\n\u001b[0;32m   2671\u001b[0m                 \u001b[1;32mreturn\u001b[0m \u001b[0mself\u001b[0m\u001b[1;33m[\u001b[0m\u001b[0mname\u001b[0m\u001b[1;33m]\u001b[0m\u001b[1;33m\u001b[0m\u001b[0m\n\u001b[1;32m-> 2672\u001b[1;33m             \u001b[1;32mreturn\u001b[0m \u001b[0mobject\u001b[0m\u001b[1;33m.\u001b[0m\u001b[0m__getattribute__\u001b[0m\u001b[1;33m(\u001b[0m\u001b[0mself\u001b[0m\u001b[1;33m,\u001b[0m \u001b[0mname\u001b[0m\u001b[1;33m)\u001b[0m\u001b[1;33m\u001b[0m\u001b[0m\n\u001b[0m\u001b[0;32m   2673\u001b[0m \u001b[1;33m\u001b[0m\u001b[0m\n\u001b[0;32m   2674\u001b[0m     \u001b[1;32mdef\u001b[0m \u001b[0m__setattr__\u001b[0m\u001b[1;33m(\u001b[0m\u001b[0mself\u001b[0m\u001b[1;33m,\u001b[0m \u001b[0mname\u001b[0m\u001b[1;33m,\u001b[0m \u001b[0mvalue\u001b[0m\u001b[1;33m)\u001b[0m\u001b[1;33m:\u001b[0m\u001b[1;33m\u001b[0m\u001b[0m\n",
      "\u001b[1;31mAttributeError\u001b[0m: 'Series' object has no attribute 'NA'"
     ]
    }
   ],
   "source": [
    "from collections import *\n",
    "\n",
    "deviances_by_paralog = defaultdict(lambda: defaultdict(list))\n",
    "\n",
    "for n, df in dev_dfs.iteritems():\n",
    "    for _, s in df.iterrows():\n",
    "        if s.NN > 0:\n",
    "            deviances_by_paralog['NN'][s['loc']].append(s['deviance'])\n",
    "        if s.NA > 0:\n",
    "            deviances_by_paralog['NA'][s['loc']].append(s['deviance'])\n",
    "        if s.NB > 0:\n",
    "            deviances_by_paralog['NB'][s['loc']].append(s['deviance'])\n",
    "        if s.NC > 0:\n",
    "            deviances_by_paralog['NC'][s['loc']].append(s['deviance'])\n",
    "        if s.ND > 0:\n",
    "            deviances_by_paralog['ND'][s['loc']].append(s['deviance'])"
   ]
  },
  {
   "cell_type": "code",
   "execution_count": null,
   "metadata": {
    "collapsed": false
   },
   "outputs": [],
   "source": [
    "fig, axes = plt.subplots(ncols=2, nrows=2)\n",
    "for ax, p in zip(axes.flat, deviances_by_paralog):\n",
    "    vals = sorted(deviances_by_paralog[p].iteritems(), key=lambda x: x[0])\n",
    "    positions, vals = zip(*vals)\n",
    "    vals = [np.nanmean(x) for x in vals]\n",
    "    ax.scatter(positions, vals, s=3)\n",
    "    ax.set_title(p)"
   ]
  },
  {
   "cell_type": "code",
   "execution_count": null,
   "metadata": {
    "collapsed": false
   },
   "outputs": [],
   "source": [
    "fig, axes = plt.subplots(ncols=2, nrows=2, sharex=True, sharey=True)\n",
    "import matplotlib.mlab as mlab\n",
    "import math\n",
    "mu = 0\n",
    "variance = 1\n",
    "sigma = math.sqrt(variance)\n",
    "norm_x = np.linspace(mu - 3*sigma, mu + 3*sigma, 100)\n",
    "\n",
    "for ax, p in zip(axes.flat, deviances_by_paralog):\n",
    "    v = deviances_by_paralog[p].values()\n",
    "    v = [x for x in v if len(x) > 50]\n",
    "    s = random.sample(v, 20)\n",
    "    for d in s:\n",
    "        tmp = [value for value in d if not math.isnan(value)]\n",
    "        tmp = [x for x in tmp if -5 < x <= 20]\n",
    "        if len(tmp) > 20:\n",
    "            g = sns.distplot(tmp, kde=False, bins=25, ax=ax, norm_hist=True)\n",
    "            g.set_title(p)\n",
    "    ax.plot(norm_x, mlab.normpdf(norm_x, mu, sigma), color='black')"
   ]
  },
  {
   "cell_type": "code",
   "execution_count": null,
   "metadata": {
    "collapsed": false
   },
   "outputs": [],
   "source": [
    "# distribution of average deviances for each\n",
    "fig, axes = plt.subplots(ncols=2, nrows=3, sharex=True, sharey=True)\n",
    "for ax, p in zip(axes.flat, deviances_by_paralog):\n",
    "    v = deviances_by_paralog[p].values()\n",
    "    v = [np.nanmean(x) for x in v if len(x) > 25]\n",
    "    v = [x for x in v if -5 < x <= 5]\n",
    "    g = sns.distplot(v, bins=20, ax=ax)\n",
    "    g.set_title(p)\n",
    "    g.set_xlim(-5, 5)"
   ]
  },
  {
   "cell_type": "code",
   "execution_count": 31,
   "metadata": {
    "collapsed": false
   },
   "outputs": [
    {
     "name": "stdout",
     "output_type": "stream",
     "text": [
      "set([22019, 80389, 54799, 88082, 77847, 16413, 69153, 25125, 8113, 85546, 18988, 19503, 65587, 75829, 28726, 48696, 12277, 2621, 14398, 90549, 40517, 2129, 68695, 2136, 62558, 66149, 16993, 43621, 55398, 4202, 60434, 13422, 56509, 96371, 4212, 74357, 86646, 76407, 44664, 30843, 35946, 42113, 39042, 80009, 10892, 4710, 63128, 67739, 30876, 24733, 19474, 91643, 91296, 47265, 23202, 30887, 18088, 52907, 78512, 10417, 58035, 89780, 89782, 48823, 43197, 48928, 31939, 72392, 72394, 32973, 93902, 50389, 45282, 76923, 56558, 65776, 67831, 69880, 91899, 71941, 3337, 9996, 87682, 75535, 62738, 56195, 46356, 25881, 9519, 50461, 15134, 90912, 71472, 26402, 31012, 15656, 24876, 69934, 31023, 98096, 3378, 90420, 76603, 56636, 12260, 87605, 70465, 59716, 76101, 60230, 71782, 84299, 88175, 78162, 61267, 76116, 42837, 9700, 10586, 65373, 76126, 7010, 59236, 14182, 37735, 4978, 50040, 18340, 26497, 76163, 97668, 91969, 9099, 9614, 40341, 94191, 7584, 19952, 69539, 70052, 96173, 87197, 42929, 51637, 38838, 54200, 18363, 94140, 61885, 77758, 43455, 43459, 55749, 50119, 3239, 95223, 94161, 79198, 42454, 64985, 28123, 89052, 94174, 12256, 40865, 27643, 51684, 45542, 2641, 50152, 93162, 28839, 92141, 87549, 27632, 48808, 66546, 52152, 95221, 26102, 41463, 48632, 95225, 95227, 95229, 77823])\n"
     ]
    }
   ],
   "source": [
    "bad_positions = {x for x, y in deviances.iteritems() if np.nanmean(y) > 3 or np.nanmean(y) < -3}\n",
    "\n",
    "print bad_positions"
   ]
  },
  {
   "cell_type": "code",
   "execution_count": 32,
   "metadata": {
    "collapsed": false
   },
   "outputs": [
    {
     "data": {
      "text/plain": [
       "1069"
      ]
     },
     "execution_count": 32,
     "metadata": {},
     "output_type": "execute_result"
    }
   ],
   "source": [
    "len(sun_df)"
   ]
  },
  {
   "cell_type": "code",
   "execution_count": 34,
   "metadata": {
    "collapsed": false
   },
   "outputs": [
    {
     "data": {
      "text/plain": [
       "186"
      ]
     },
     "execution_count": 34,
     "metadata": {},
     "output_type": "execute_result"
    }
   ],
   "source": [
    "len(bad_positions)"
   ]
  },
  {
   "cell_type": "code",
   "execution_count": null,
   "metadata": {
    "collapsed": true
   },
   "outputs": [],
   "source": []
  }
 ],
 "metadata": {
  "kernelspec": {
   "display_name": "Python [Root]",
   "language": "python",
   "name": "Python [Root]"
  },
  "language_info": {
   "codemirror_mode": {
    "name": "ipython",
    "version": 2
   },
   "file_extension": ".py",
   "mimetype": "text/x-python",
   "name": "python",
   "nbconvert_exporter": "python",
   "pygments_lexer": "ipython2",
   "version": "2.7.11"
  }
 },
 "nbformat": 4,
 "nbformat_minor": 0
}
